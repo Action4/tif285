{
 "cells": [
  {
   "cell_type": "markdown",
   "metadata": {},
   "source": [
    "<!-- dom:TITLE: Learning from data: Gaussian processes -->\n",
    "# Learning from data: Gaussian processes\n",
    "<!-- dom:AUTHOR: Christian Forssén at Department of Physics, Chalmers University of Technology, Sweden -->\n",
    "<!-- Author: -->  \n",
    "**Christian Forssén**, Department of Physics, Chalmers University of Technology, Sweden\n",
    "\n",
    "Date: **Oct 7, 2019**\n",
    "\n",
    "Copyright 2018-2019, Christian Forssén. Released under CC Attribution-NonCommercial 4.0 license\n",
    "\n",
    "\n",
    "\n",
    "## Inference using Gaussian processes\n",
    "\n",
    "Assume that there is a set of input vectors with independent, predictor, variables"
   ]
  },
  {
   "cell_type": "markdown",
   "metadata": {},
   "source": [
    "$$\n",
    "\\boldsymbol{X}_N \\equiv \\{ \\boldsymbol{x}^{(n)}\\}_{n=1}^N\n",
    "$$"
   ]
  },
  {
   "cell_type": "markdown",
   "metadata": {},
   "source": [
    "and a set of target values"
   ]
  },
  {
   "cell_type": "markdown",
   "metadata": {},
   "source": [
    "$$\n",
    "\\boldsymbol{t}_N \\equiv \\{ t^{(n)}\\}_{n=1}^N.\n",
    "$$"
   ]
  },
  {
   "cell_type": "markdown",
   "metadata": {},
   "source": [
    "* Note that we will use the symbol $t$ to denote the target, or response, variables in the context of Gaussian Processes. \n",
    "\n",
    "* Furthermore, we will use the subscript $N$ to denote a vector of $N$ vectors (or scalars): $\\boldsymbol{X}_N$ ($\\boldsymbol{t}_N$)\n",
    "\n",
    "* While a single instance $i$ is denoted by a superscript: $\\boldsymbol{x}^{(i)}$ ($t^{(i)}$).\n",
    "\n",
    "We will consider two different *inference problems*:\n",
    "\n",
    "1. The prediction of *new target* $t^{(N+1)}$ given a new input $\\boldsymbol{x}^{(N+1)}$\n",
    "\n",
    "2. The inference of a *function* $y(\\boldsymbol{x})$ from the data.\n",
    "\n",
    "The former can be expressed with the pdf"
   ]
  },
  {
   "cell_type": "markdown",
   "metadata": {},
   "source": [
    "$$\n",
    "p\\left( t^{(N+1)} | \\boldsymbol{t}_N, \\boldsymbol{X}_{N}, \\boldsymbol{x}^{(N+1)} \\right)\n",
    "$$"
   ]
  },
  {
   "cell_type": "markdown",
   "metadata": {},
   "source": [
    "while the latter can be written using Bayes' formula (in these notes we will not be including information $I$ explicitly in the conditional probabilities)"
   ]
  },
  {
   "cell_type": "markdown",
   "metadata": {},
   "source": [
    "$$\n",
    "p\\left( y(\\boldsymbol{x}) | \\boldsymbol{t}_N, \\boldsymbol{X}_N \\right)\n",
    "= \\frac{p\\left( \\boldsymbol{t}_N | y(\\boldsymbol{x}), \\boldsymbol{X}_N \\right) p \\left( y(\\boldsymbol{x}) \\right) }\n",
    "{p\\left( \\boldsymbol{t}_N | \\boldsymbol{X}_N \\right) }\n",
    "$$"
   ]
  },
  {
   "cell_type": "markdown",
   "metadata": {},
   "source": [
    "The inference of a function will obviously also allow to make predictions for new targets. \n",
    "However, we will need to consider in particular the second term in the numerator, which is the **prior** distribution on functions assumed in the model.\n",
    "\n",
    "* This prior is implicit in parametric models with priors on the parameters.\n",
    "\n",
    "* The idea of Gaussian process modeling is to put a prior directly on the **space of functions** without parameterizing $y(\\boldsymbol{x})$.\n",
    "\n",
    "* A Gaussian process can be thought of as a generalization of a Gaussian distribution over a finite vector space to a **function space of infinite dimension**.\n",
    "\n",
    "* Just as a Gaussian distribution is specified by its mean and covariance matrix, a Gaussian process is specified by a **mean and covariance function**.\n",
    "\n",
    "**Gaussian process.**\n",
    "\n",
    "A Gaussian process is a stochastic process (a collection of random variables indexed by time or space), such that every finite collection of those random variables has a multivariate normal distribution\n",
    "\n",
    "\n",
    "\n",
    "### References:\n",
    "\n",
    "1. [Gaussian Processes for Machine Learning](http://www.gaussianprocess.org/gpml), Carl Edward Rasmussen and Chris Williams, the MIT Press, 2006, [online version](http://www.gaussianprocess.org/gpml/chapters).\n",
    "\n",
    "2. [GPy](https://sheffieldml.github.io/GPy/): a Gaussian Process (GP) framework written in python, from the Sheffield machine learning group.\n",
    "\n",
    "## Parametric approach\n",
    "\n",
    "Let us express $y(\\boldsymbol{x})$ in terms of a model function $y(\\boldsymbol{x}; \\boldsymbol{\\theta})$ that depends on a vector of model parameters $\\boldsymbol{\\theta}$.\n",
    "\n",
    "For example, using a set of basis functions $\\left\\{ \\phi^{(h)} (\\boldsymbol{x}) \\right\\}_{h=1}^H$ with linear weights $\\boldsymbol{\\theta}_H$ we have"
   ]
  },
  {
   "cell_type": "markdown",
   "metadata": {},
   "source": [
    "$$\n",
    "y (\\boldsymbol{x}, \\boldsymbol{\\theta}) = \\sum_{h=1}^H \\theta^{(h)} \\phi^{(h)} (\\boldsymbol{x})\n",
    "$$"
   ]
  },
  {
   "cell_type": "markdown",
   "metadata": {},
   "source": [
    "**Notice.**\n",
    "\n",
    "The basis functions can be non-linear such as Gaussians (aka *radial basis functions*)"
   ]
  },
  {
   "cell_type": "markdown",
   "metadata": {},
   "source": [
    "$$\n",
    "\\phi^{(h)} (\\boldsymbol{x}) = \\exp \\left[ -\\frac{\\left( \\boldsymbol{x} - \\boldsymbol{c}^{(h)} \\right)^2}{2 (\\sigma^{(h)})^2} \\right].\n",
    "$$"
   ]
  },
  {
   "cell_type": "markdown",
   "metadata": {},
   "source": [
    "Still, this constitutes a linear model since $y (\\boldsymbol{x}, \\boldsymbol{\\theta})$ depends linearly on the parameters $\\boldsymbol{\\theta}$.\n",
    "\n",
    "\n",
    "\n",
    "The inference of model parameters should be a well-known problem by now. We state it in terms of Bayes theorem"
   ]
  },
  {
   "cell_type": "markdown",
   "metadata": {},
   "source": [
    "$$\n",
    "p \\left( \\boldsymbol{\\theta} | \\boldsymbol{t}_N, \\boldsymbol{X}_N \\right)\n",
    "= \\frac{ p \\left( \\boldsymbol{t}_N | \\boldsymbol{\\theta}, \\boldsymbol{X}_N \\right) p \\left( \\boldsymbol{\\theta} \\right)}{p \\left( \\boldsymbol{t}_N | \\boldsymbol{X}_N \\right)}\n",
    "$$"
   ]
  },
  {
   "cell_type": "markdown",
   "metadata": {},
   "source": [
    "Having solved this inference problem (e.g. by linear regression) a prediction can be made through marginalization"
   ]
  },
  {
   "cell_type": "markdown",
   "metadata": {},
   "source": [
    "$$\n",
    "p\\left( t^{(N+1)} | \\boldsymbol{t}_N, \\boldsymbol{X}_{N}, \\boldsymbol{x}^{(N+1)} \\right) \n",
    "= \\int d^H \\boldsymbol{\\theta} \n",
    "p\\left( t^{(N+1)} | \\boldsymbol{\\theta}, \\boldsymbol{x}^{(N+1)} \\right)\n",
    "p \\left( \\boldsymbol{\\theta} | \\boldsymbol{t}_N, \\boldsymbol{X}_N \\right).\n",
    "$$"
   ]
  },
  {
   "cell_type": "markdown",
   "metadata": {},
   "source": [
    "Here it is important to note that the final answer does not make any explicit reference to our parametric representation of the unknown function $y(\\boldsymbol{x})$.\n",
    "\n",
    "Assuming that we have a fixed set of basis functions and Gaussian prior distributions (with zero mean) on the weights $\\boldsymbol{\\theta}$ we will show that:\n",
    "\n",
    "* The joint pdf of the observed data given the model $p( \\boldsymbol{t}_N |  \\boldsymbol{X}_N)$, is a multivariate Gaussian with mean zero and with a covariance matrix that is determined by the basis functions.\n",
    "\n",
    "* This implies that the conditional distribution $p( t^{(N+1)} | \\boldsymbol{t}_N, \\boldsymbol{X}_{N+1})$, is also a multivariate Gaussian whose mean depends linearly on $\\boldsymbol{t}_N$.\n",
    "\n",
    "### Proof\n",
    "\n",
    "To be added.\n",
    "\n",
    "### The covariance matrix as the central object\n",
    "\n",
    "To be added.\n",
    "\n",
    "## Non-parametric approach: Mean and covariance functions\n",
    "\n",
    "Similarly to how a D-dimensional Gaussian is parameterized by its mean vector and its covariance matrix, a GP is parameterized by a mean *function* and a covariance *function*. To explain this, we'll assume (without loss of generality) that the mean function is $\\mu(x) = \\mathbf{0}$. As for the covariance function, $C(x,x')$, it is a function that receives as input two locations $x,x'$ belonging to the input domain, i.e. $x,x' \\in \\mathcal{X}$, and returns the value of their co-variance.\n",
    "\n",
    "In this way, if we have a *finite* set of input locations we can evaluate the covariance function at every pair of locations and obtain a covariance matrix $\\mathbf{C}$. We write:"
   ]
  },
  {
   "cell_type": "markdown",
   "metadata": {},
   "source": [
    "$$\n",
    "\\mathbf{C} = C(\\mathbf{X}, \\mathbf{X}),\n",
    "$$"
   ]
  },
  {
   "cell_type": "markdown",
   "metadata": {},
   "source": [
    "where $\\mathbf{X}$ is the collection of training inputs.\n",
    "\n",
    "We'll see below that the covariance function is what encodes our assumption about the GP. By selecting a covariance function, we are making implicit assumptions about the shape of the function we wish to encode with the GP, for example how smooth it is.\n",
    "\n",
    "Even if the covariance function has a parametric form, combined with the GP it gives us a nonparametric model. In other words, the covariance function is specifying the general properties of the GP function we wish to encode, and not a specific parametric form for it.\n",
    "\n",
    "\n",
    "### Stationary kernels\n",
    "\n",
    "To be added.\n",
    "\n",
    "Below we define two very common covariance functions: The RBF (also known as Exponentiated Quadratic or Gaussian kernel) which is differentiable infinitely many times (hence, very smooth),"
   ]
  },
  {
   "cell_type": "markdown",
   "metadata": {},
   "source": [
    "$$\n",
    "k_{RBF}(\\mathbf{x}_{i},\\mathbf{x}_{j}) = \\sigma^2 \\exp \\left( -\\frac{1}{2\\ell^2} \\sum_{q=1}^Q (x_{i,q} - x_{j,q})^2\\right)\n",
    "$$"
   ]
  },
  {
   "cell_type": "markdown",
   "metadata": {},
   "source": [
    "where $Q$ denotes the dimensionality of the input space. Its parameters are: the *lengthscale*, $\\ell$ and the variance $\\sigma^2$. \n",
    "\n",
    "Furthermore, the linear kernel:"
   ]
  },
  {
   "cell_type": "markdown",
   "metadata": {},
   "source": [
    "$$\n",
    "k_{lin}(\\mathbf{x}_{i},\\mathbf{x}_{j}) = \\sigma^2 \\mathbf{x}_{i}^T \\mathbf{x}_{j}\n",
    "$$"
   ]
  },
  {
   "cell_type": "markdown",
   "metadata": {},
   "source": [
    "## GP models for regression\n",
    "To be added.\n",
    "\n",
    "### Optimizing the GP model hyperparameters\n",
    "\n",
    "To be added.\n",
    "\n",
    "## GP emulators\n",
    "\n",
    "To be added."
   ]
  }
 ],
 "metadata": {},
 "nbformat": 4,
 "nbformat_minor": 2
}
