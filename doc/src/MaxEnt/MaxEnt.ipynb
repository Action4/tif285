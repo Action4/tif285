{
 "cells": [
  {
   "cell_type": "markdown",
   "metadata": {},
   "source": [
    "<!-- dom:TITLE: Learning from data: Assigning probabilities -->\n",
    "# Learning from data: Assigning probabilities\n",
    "<!-- dom:AUTHOR: Christian Forssén at Department of Physics, Chalmers University of Technology, Sweden -->\n",
    "<!-- Author: -->  \n",
    "**Christian Forssén**, Department of Physics, Chalmers University of Technology, Sweden\n",
    "\n",
    "Date: **Sep 29, 2019**\n",
    "\n",
    "Copyright 2018-2019, Christian Forssén. Released under CC Attribution-NonCommercial 4.0 license\n",
    "\n",
    "\n",
    "\n",
    "# Ignorance pdfs: Indifference and translation groups\n",
    "\n",
    "* Consider a six-sided dice\n",
    "\n",
    "* How do we assign $p(X_i|I)$, $i \\in \\{1, 2, 3, 4, 5, 6\\}$?\n",
    "\n",
    "* We do know $\\sum_i p(X_i|I) = 1$\n",
    "\n",
    "* Invariance under labeling $\\Rightarrow p(X_i|I)=1/6$\n",
    "\n",
    "  * provided that the prior information $I$ says nothing that breaks the symmetry.\n",
    "\n",
    "\n",
    "## Location invariance\n",
    "Indifference to a shift $x_0$ for a location parameter $x$ implies that"
   ]
  },
  {
   "cell_type": "markdown",
   "metadata": {},
   "source": [
    "$$\n",
    "p(x|I) dx \\approx p(x+ x_0|I) d(x+x_0) =  p(x+ x_0|I) dx,\n",
    "$$"
   ]
  },
  {
   "cell_type": "markdown",
   "metadata": {},
   "source": [
    "in the allowed range.\n",
    "\n",
    "* Invariance under origin position $\\Rightarrow p(x|I) =  p(x+ x_0|I)$, i.e., $p(x|I) = \\mathrm{constant}$.\n",
    "\n",
    "  * Provided that the prior information $I$ says nothing that breaks the symmetry.\n",
    "\n",
    "\n",
    "* The pdf will be zero outside the allowed range (specified by $I$).\n",
    "\n",
    "## Scale invariance\n",
    "\n",
    "Indifference to a re-scaling $\\lambda$ of a scale parameter $x$ implies that"
   ]
  },
  {
   "cell_type": "markdown",
   "metadata": {},
   "source": [
    "$$\n",
    "p(x|I) dx \\approx p(\\lambda x|I) d(\\lambda x) =  \\lambda p(\\lambda x|I) dx,\n",
    "$$"
   ]
  },
  {
   "cell_type": "markdown",
   "metadata": {},
   "source": [
    "in the allowed range.\n",
    "\n",
    "* Invariance under re-scaling $\\Rightarrow p(x|I) \\propto 1/x$. \n",
    "\n",
    "  * Provided that the prior information $I$ says nothing that breaks the symmetry.\n",
    "\n",
    "\n",
    "* The pdf will be zero outside the allowed range (specified by $I$).\n",
    "\n",
    "* This prior is often called a *Jeffrey's prior*; it represents a complete ignorance of a scale parameter within an allowed range.\n",
    "\n",
    "* It is equivalent to a uniform pdf for the logarithm: $p(\\log(x)|I) = \\mathrm{constant}$\n",
    "\n",
    "  * as can be verified with a change of variable $y=\\log(x)$, see lecture notes on error propagation.\n",
    "\n",
    "\n",
    "### Example: Straight-line model\n",
    "\n",
    "Consider the theoretical model $y_\\mathrm{th}(x) = \\theta_1  x  + \\theta_0$.\n",
    "\n",
    "* Would you consider the intercept $\\theta_0$ a location or a scale parameter, or something else?\n",
    "\n",
    "* Would you consider the slope $\\theta_1$ a location or a scale parameter, or something else?\n",
    "\n",
    "Consider also the statistical model for the observed data $y_i = y_\\mathrm{th}(x_i) + \\epsilon_i$, where we assume independent, Gaussian noise $\\epsilon_i \\sim \\mathcal{N}(0, \\sigma^2)$.\n",
    "* Would you consider the standard deviation $\\sigma$ a location or a scale parameter, or something else?\n",
    "\n",
    "## Symmetry invariance\n",
    "\n",
    "* In fact, by symmetry indifference we could as well have written the linear model as $x_\\mathrm{th}(y) = \\theta_1'  y  + \\theta_0'$\n",
    "\n",
    "* We would then equate the probability elements for the two models $p(\\theta_0, \\theta_1 | I) d\\theta_0 d\\theta_1 = q(\\theta_0', \\theta_1' | I) d\\theta_0' d\\theta_1'$.\n",
    "\n",
    "* The transformation gives $(\\theta_0', \\theta_1') = (-\\theta_1^{-1}\\theta_0, \\theta_1^{-1})$.\n",
    "\n",
    "This change of variables implies that"
   ]
  },
  {
   "cell_type": "markdown",
   "metadata": {},
   "source": [
    "$$\n",
    "q(\\theta_0', \\theta_1' | I) = p(\\theta_0, \\theta_1 | I) \\left| \\frac{d\\theta_0 d\\theta_1}{d\\theta_0' d\\theta_1'} \\right|,\n",
    "$$"
   ]
  },
  {
   "cell_type": "markdown",
   "metadata": {},
   "source": [
    "where the (absolute value of the) determinant of the Jacobian is"
   ]
  },
  {
   "cell_type": "markdown",
   "metadata": {},
   "source": [
    "$$\n",
    "\\left| \\frac{d\\theta_0 d\\theta_1}{d\\theta_0' d\\theta_1'} \\right| \n",
    "= \\mathrm{abs} \\left( \n",
    "\\begin{vmatrix}\n",
    "\\frac{\\partial \\theta_0}{\\partial \\theta_0'} & \\frac{\\partial \\theta_0}{\\partial \\theta_1'} \\\\\n",
    "\\frac{\\partial \\theta_1}{\\partial \\theta_0'} & \\frac{\\partial \\theta_1}{\\partial \\theta_1'} \n",
    "\\end{vmatrix}\n",
    "\\right)\n",
    "= \\frac{1}{\\left( \\theta_1' \\right)^3}.\n",
    "$$"
   ]
  },
  {
   "cell_type": "markdown",
   "metadata": {},
   "source": [
    "* In summary we find that $\\theta_1^3 p(\\theta_0, \\theta_1 | I) = p(-\\theta_1^{-1}\\theta_0, \\theta_1^{-1}|I).$\n",
    "\n",
    "* This functional equation is satisfied by"
   ]
  },
  {
   "cell_type": "markdown",
   "metadata": {},
   "source": [
    "$$\n",
    "p(\\theta_0, \\theta_1 | I) \\propto \\frac{1}{\\left( 1 + \\theta_1^2 \\right)^{3/2}}.\n",
    "$$"
   ]
  },
  {
   "cell_type": "markdown",
   "metadata": {},
   "source": [
    "<!-- dom:FIGURE:[fig/slope_priors.png, width=800 frac=0.8] 100 samples of straight lines with intercept 0 and slope from three different pdfs. -->\n",
    "<!-- begin figure -->\n",
    "\n",
    "<p>100 samples of straight lines with intercept 0 and slope from three different pdfs.</p>\n",
    "<img src=\"fig/slope_priors.png\" width=800>\n",
    "\n",
    "<!-- end figure -->\n",
    "\n",
    "\n",
    "\n",
    "# The principle of maximum entropy\n",
    "\n",
    "Having dealt with ignorance, let us move on to a more enlightened situation.\n",
    "\n",
    "Consider a die with the usual six faces that was rolled a very large number of times. Suppose that we were only told that the average number of dots was 2.5. What (discrete) pdf would we assign? I.e. what are the probabilities $\\{ p_i \\}$ that the face on top had $i$ dots after a single throw?\n",
    "\n",
    "The available information can be summarized as follows"
   ]
  },
  {
   "cell_type": "markdown",
   "metadata": {},
   "source": [
    "$$\n",
    "\\sum_{i=1}^6 p_i = 1, \\qquad \\sum_{i=1}^6 i p_i = 2.5\n",
    "$$"
   ]
  },
  {
   "cell_type": "markdown",
   "metadata": {},
   "source": [
    "This is obviously not a normal die, with uniform probability $p_i=1/6$, since the average result would then be 3.5. But there are many candidate pdfs that would reproduce the given information. Which one should we prefer?\n",
    "\n",
    "It turns out that there are several different arguments that all point in a direction that is very familiar to people with a physics background. Namely that we should prefer the probability distribution that maximizes an entropy measure, while fulfilling the given constraints. \n",
    "\n",
    "## The entropy of Scandinavians\n",
    "\n",
    "Let's consider another pdf assignment problem. This is originally the *kangaroo problem* (Gull and SKilling, 1984), but adapted here to a local context. The problem is stated as follows:\n",
    "\n",
    "Information:\n",
    "  :    \n",
    "  70% of all Scandinavians have blonde hair, and 10% of all Scandinavians are left handed.\n",
    "\n",
    "Question:\n",
    "  :    \n",
    "  On the basis of this information alone, what proportion of kangaroos are both blonde and left handed?\n",
    "\n",
    "We note that for any one given Scandinavian there are four distinct possibilities: \n",
    "1. Blonde and left handed (probability $p_1$).\n",
    "\n",
    "2. Blonde and right handed (probability $p_2$).\n",
    "\n",
    "3. Not blonde and left handed (probability $p_3$).\n",
    "\n",
    "4. Not blonde and right handed (probability $p_4$).\n",
    "\n",
    "The following 2x2 contingency table\n",
    "\n",
    "<table border=\"1\">\n",
    "<thead>\n",
    "<tr><th align=\"center\">          </th> <th align=\"center\">Left handed</th> <th align=\"center\">Right handed</th> </tr>\n",
    "</thead>\n",
    "<tbody>\n",
    "<tr><td align=\"left\">   Blonde        </td> <td align=\"center\">   $p_1$          </td> <td align=\"center\">   $p_2$           </td> </tr>\n",
    "<tr><td align=\"left\">   Not blonde    </td> <td align=\"center\">   $p_3$          </td> <td align=\"center\">   $p_4$           </td> </tr>\n",
    "</tbody>\n",
    "</table>\n",
    "can be written in terms of a single variable $x$ due to the normalization condition $\\sum_{i=1}^4 p_i = 1$, and the available information $p_1 + p_2 = 0.7$ and $p_1 + p_3 = 0.1$\n",
    "\n",
    "<table border=\"1\">\n",
    "<thead>\n",
    "<tr><th align=\"center\">          </th> <th align=\"center\">   Left handed   </th> <th align=\"center\">Right handed</th> </tr>\n",
    "</thead>\n",
    "<tbody>\n",
    "<tr><td align=\"left\">   Blonde        </td> <td align=\"center\">   $0 \\le x \\le 0.1$    </td> <td align=\"center\">   $0.7-x$         </td> </tr>\n",
    "<tr><td align=\"left\">   Not blonde    </td> <td align=\"center\">   $0.1-x$              </td> <td align=\"center\">   $0.2+x$         </td> </tr>\n",
    "</tbody>\n",
    "</table>\n",
    "But which choice of $x$ is preferred?\n",
    "\n",
    "## The monkey argument\n",
    "\n",
    "A model for assigning probabilities to $M$ different alternatives that satisfy some constraint as described by $I$: \n",
    "* Monkeys throwing $N$ balls into $M$ equally sized boxes.\n",
    "\n",
    "* The normalization condition $N = \\sum_{i=1}^M n_i$.\n",
    "\n",
    "* The fraction of balls in each box gives a possible assignment for the corresponding probability $p_i = n_i / M$.\n",
    "\n",
    "* The distribution of balls $\\{ n_i \\}$ is therefore a candidate pdf $\\{ p_i \\}$.\n",
    "\n",
    "* The resulting pdf might not be consistent with the constraints of $I$, however, in which case it should be rejected as a possible candidate.\n",
    "\n",
    "* After many such trials, some distributions will be found to come up more often than others. The one that appears most frequently (and satisfies $I$) would be a sensible choice for $p(\\{p_i\\}|I)$.\n",
    "\n",
    "* The number of micro-states, $W$, as a function of $\\{p_i\\}$ is"
   ]
  },
  {
   "cell_type": "markdown",
   "metadata": {},
   "source": [
    "$$\n",
    "\\log(W(\\{n_i\\})) = \\log(N!) − \\sum_{i=1}^M \\log(n_i!) \n",
    "\\approx N\\log(N) - \\sum_{i=1}^M n_i\\log(n_i),\n",
    "$$"
   ]
  },
  {
   "cell_type": "markdown",
   "metadata": {},
   "source": [
    "where we have used the Stirling approximation $\\log(n!) \\approx n\\log(n) - n$ for large numbers, and a cancellation of two terms. \n",
    "\n",
    "* There are $M^N$ different ways to distribute the balls.\n",
    "\n",
    "* The micro-states $\\{ n_i\\}$ are connected to the pdf $\\{ p_i \\}$, so the frequency of a given pdf is given by"
   ]
  },
  {
   "cell_type": "markdown",
   "metadata": {},
   "source": [
    "$$\n",
    "\\log(F(\\{p_i\\})) \\approx -N \\log(M) + N\\log(N) - \\sum_{i=1}^M n_i\\log(n_i)\n",
    "$$"
   ]
  },
  {
   "cell_type": "markdown",
   "metadata": {},
   "source": [
    "Substituting $p_i = n_i/N$, and using the normalization condition finally gives"
   ]
  },
  {
   "cell_type": "markdown",
   "metadata": {},
   "source": [
    "$$\n",
    "\\log(F(\\{p_i\\})) \\approx -N \\log(M) - N \\sum_{i=1}^M p_i\\log(p_i)\n",
    "$$"
   ]
  },
  {
   "cell_type": "markdown",
   "metadata": {},
   "source": [
    "We note that $N$ and $M$ are constants so that the pdf is given by the $\\{ p_i \\}$ that maximizes"
   ]
  },
  {
   "cell_type": "markdown",
   "metadata": {},
   "source": [
    "$$\n",
    "S = - \\sum_{i=1}^M p_i\\log(p_i).\n",
    "$$"
   ]
  },
  {
   "cell_type": "markdown",
   "metadata": {},
   "source": [
    "You might recognise this quantity as the *entropy* from statistical mechanics. The interpretation of entropy in statistical mechanics is the measure of uncertainty, which remains about a system after its observable macroscopic properties, such as temperature, pressure and volume, have been taken into account. For a given set of macroscopic variables, the entropy measures the degree to which the probability of the system is spread out over different possible microstates. Specifically, entropy is a logarithmic measure of the number of micro-states with significant probability of being occupied $S = -k_B \\sum_i p_i \\log(p_i)$, where $k_B$ is the Boltzmann constant.\n",
    "\n",
    "### Why maximize the entropy?\n",
    "\n",
    "* Information theory: maximum entropy=minimum information (Shannon, 1948).\n",
    "\n",
    "* Logical consistency (Shore & Johnson, 1960).\n",
    "\n",
    "* Uncorrelated assignments related monotonically to $S$ (Skilling, 1988).\n",
    "\n",
    "Consider the third argument. Let us check it empirically to the problem of hair colour and handedness of Scandinavians. We are interested in determining $p_1 \\equiv p(L,B|I) \\equiv x$, the probability that a Scandinavian is both left-handed and blonde. However, in this simple example we can immediately realize that the assignment $p_1=0.07$ is the only one that implies no correlation between left-handedness and hair color. Any joint probability smaller than 0.07 implies that left-handed people are less likely to be blonde, and any larger vale indicates that left-handed people are more likely to be blonde.\n",
    "\n",
    "So unless you have specific information about the existence of such a correlation, you should better not build it into the assignment of the probability $p_1$.\n",
    "\n",
    "**Question**: Can you show why $p_1 < 0.07$ and $p_1 > 0.07$ corresponds to left-handedness and blondeness being dependent variables?\n",
    "\n",
    "Let us now empirically consider a few variational functions of $\\{ p_i \\}$ and see if any of them gives a maximum that corresponds to the uncorrelated assignment $x=0.07$, which implies $p_1 = 0.07, \\, p_2 = 0.63, \\, p_3 = 0.03, \\, p_4 = 0.27$. A few variational functions and their prediction for $x$ are shown in the following table.\n",
    "\n",
    "<table border=\"1\">\n",
    "<thead>\n",
    "<tr><th align=\"center\">    Variational function   </th> <th align=\"center\">Optimal x</th> <th align=\"center\">Implied correlation</th> </tr>\n",
    "</thead>\n",
    "<tbody>\n",
    "<tr><td align=\"center\">   $-\\sum_i p_i \\log(p_i)$        </td> <td align=\"center\">   0.070        </td> <td align=\"center\">   None                   </td> </tr>\n",
    "<tr><td align=\"center\">   $\\sum_i \\log(p_i)$             </td> <td align=\"center\">   0.053        </td> <td align=\"center\">   Negative               </td> </tr>\n",
    "<tr><td align=\"center\">   $-\\sum_i p_i^2 \\log(p_i)$      </td> <td align=\"center\">   0.100        </td> <td align=\"center\">   Positive               </td> </tr>\n",
    "<tr><td align=\"center\">   $-\\sum_i \\sqrt{p_i(1-p_i)}$    </td> <td align=\"center\">   0.066        </td> <td align=\"center\">   Negative               </td> </tr>\n",
    "</tbody>\n",
    "</table>\n",
    "<!-- dom:FIGURE:[fig/scandinavian_entropy.png, width=800 frac=0.8] Four different variational functions $f\\left( \\{ p_i \\} \\right)$. The optimal $x$ are shown by circles. The uncorrelated assignment $x=0.07$ is shown by a vertical line. -->\n",
    "<!-- begin figure -->\n",
    "\n",
    "<p>Four different variational functions $f\\left( \\{ p_i \\} \\right)$. The optimal $x$ are shown by circles. The uncorrelated assignment $x=0.07$ is shown by a vertical line.</p>\n",
    "<img src=\"fig/scandinavian_entropy.png\" width=800>\n",
    "\n",
    "<!-- end figure -->\n",
    "\n",
    "\n",
    "### Continuous case\n",
    "\n",
    "Return to monkeys, but now with different probabilities for each bin.Then"
   ]
  },
  {
   "cell_type": "markdown",
   "metadata": {},
   "source": [
    "$$\n",
    "S= −\\sum_{i=1}^M p_i \\log \\left( \\frac{p_i}{m_i} \\right),\n",
    "$$"
   ]
  },
  {
   "cell_type": "markdown",
   "metadata": {},
   "source": [
    "which is often known as the *Shannon-Jaynes entropy*, or the *Kullback number*, or the *cross entropy* (with opposite sign).\n",
    "\n",
    "In the continuous case"
   ]
  },
  {
   "cell_type": "markdown",
   "metadata": {},
   "source": [
    "$$\n",
    "S[p]= −\\int p(x) \\log \\left( \\frac{p(x)}{m(x)} \\right).\n",
    "$$"
   ]
  },
  {
   "cell_type": "markdown",
   "metadata": {},
   "source": [
    "## Derivation of common pdfs using MaxEnt\n",
    "\n",
    "### Variance and the Gaussian pdf\n",
    "\n",
    "### Counting statistics and the Poisson distribution"
   ]
  }
 ],
 "metadata": {},
 "nbformat": 4,
 "nbformat_minor": 2
}
