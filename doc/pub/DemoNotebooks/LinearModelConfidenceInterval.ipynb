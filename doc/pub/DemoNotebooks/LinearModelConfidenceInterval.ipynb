{
 "cells": [
  {
   "cell_type": "code",
   "execution_count": 1,
   "id": "6964812b-4b80-4197-ab7a-5d11b48e1ff9",
   "metadata": {},
   "outputs": [],
   "source": [
    "import numpy as np\n",
    "import scipy.stats as stats\n",
    "import matplotlib.pyplot as plt"
   ]
  },
  {
   "cell_type": "markdown",
   "id": "31d49704-9a3f-49af-8499-f62cde89d7dd",
   "metadata": {},
   "source": [
    "## Data generating process"
   ]
  },
  {
   "cell_type": "code",
   "execution_count": 2,
   "id": "4d0e0e70-d710-4cca-8608-9ac4053ef16f",
   "metadata": {},
   "outputs": [],
   "source": [
    "class DataGeneration():\n",
    "    def __init__(self, Nd=8, poldeg=2, xmin=0.0, xmax=0.5, error=0.1, seed=None):\n",
    "        self.rng=np.random.default_rng(seed=seed)\n",
    "        self.xdata = np.sort(self.rng.uniform(low=xmin, high=xmax, size=(Nd,1)),axis=0)\n",
    "        self.true_params = self.rng.uniform(low=-5.0, high=5, size=poldeg+1,)\n",
    "        self.sigma_error=error\n",
    "        self.ydata = self.measurement()\n",
    "        \n",
    "    def true_model(self, params, xdata):\n",
    "        ytrue = np.polynomial.polynomial.polyval(xdata, params)\n",
    "        return ytrue\n",
    "\n",
    "    def measurement(self):\n",
    "        ydata = self.true_model(self.true_params, self.xdata)\n",
    "        error = self.rng.normal(0,self.sigma_error,len(self.xdata)).reshape(-1,1)\n",
    "        return ydata+error"
   ]
  },
  {
   "cell_type": "code",
   "execution_count": 12,
   "id": "5295aa84-2210-4561-80f4-ef5001d7dcef",
   "metadata": {},
   "outputs": [],
   "source": [
    "xmin=0.0\n",
    "xmax=0.5\n",
    "Nd=8\n",
    "poldeg=2\n",
    "seed=42\n",
    "process = DataGeneration(Nd=Nd, poldeg=poldeg, xmin=xmin, xmax=xmax, seed=seed)"
   ]
  },
  {
   "cell_type": "code",
   "execution_count": 13,
   "id": "67f10d14-eb86-4090-8de1-254de61cd327",
   "metadata": {},
   "outputs": [
    {
     "data": {
      "text/plain": [
       "array([-3.71886367, -0.49614062, -1.29201976])"
      ]
     },
     "execution_count": 13,
     "metadata": {},
     "output_type": "execute_result"
    }
   ],
   "source": [
    "process.true_params"
   ]
  },
  {
   "cell_type": "code",
   "execution_count": 14,
   "id": "2ff631be-b96a-4148-b522-cdad76999b7d",
   "metadata": {},
   "outputs": [
    {
     "data": {
      "text/plain": [
       "array([[0.04708867],\n",
       "       [0.21943922],\n",
       "       [0.34868401],\n",
       "       [0.38056985],\n",
       "       [0.38697802],\n",
       "       [0.39303215],\n",
       "       [0.42929896],\n",
       "       [0.48781118]])"
      ]
     },
     "execution_count": 14,
     "metadata": {},
     "output_type": "execute_result"
    }
   ],
   "source": [
    "process.xdata"
   ]
  },
  {
   "cell_type": "code",
   "execution_count": 15,
   "id": "5ec1c35c-6551-49cd-957d-2672d6bb61c7",
   "metadata": {},
   "outputs": [
    {
     "data": {
      "image/png": "[encoded data removed]",
      "text/plain": [
       "<Figure size 640x480 with 1 Axes>"
      ]
     },
     "metadata": {},
     "output_type": "display_data"
    }
   ],
   "source": [
    "fig,ax = plt.subplots(1,1)\n",
    "ax.errorbar(process.xdata.flatten(),process.ydata.flatten(),yerr=process.sigma_error,fmt='o',label=r'$\\mathcal{D}$')\n",
    "x_plot = np.linspace(xmin,xmax,100)\n",
    "y_plot = process.true_model(process.true_params, x_plot)\n",
    "ax.plot(x_plot, y_plot, 'r-', label='True model')\n",
    "ax.set_xlabel(r'$x$')\n",
    "ax.set_ylabel(r'$y$')\n",
    "ax.legend(loc='best');"
   ]
  },
  {
   "cell_type": "markdown",
   "id": "c200c4fb-4150-4260-8401-d1a2caf7d5ee",
   "metadata": {},
   "source": [
    "## Linear Regression class"
   ]
  },
  {
   "cell_type": "code",
   "execution_count": 16,
   "id": "3eda8295-541e-45f3-8502-6fd2cca04e1c",
   "metadata": {},
   "outputs": [],
   "source": [
    "class LinearRegression:\n",
    "    def __init__(self, xdata, ydata, poldeg):\n",
    "        self.xdata = np.array(xdata).reshape(-1, 1)\n",
    "        self.ydata = np.array(ydata).reshape(-1, 1)\n",
    "        self.poldeg = poldeg\n",
    "        self.Np = poldeg+1\n",
    "        self.Nd = len(xdata)\n",
    "        assert self.Nd > self.Np, \"Must have more data than parameters. Aborting\"\n",
    "        self.design_matrix = self.create_polynomial_design_matrix(self.xdata)\n",
    "        self.theta_opt, self.XTXinv = self.solve_normal_equation()\n",
    "        self.residuals_opt = self.ydata - self.predict(self.theta_opt, self.xdata)\n",
    "        self.variance_opt = self.estimate_variance_opt()\n",
    "\n",
    "    def create_polynomial_design_matrix(self, xdata):\n",
    "        \"\"\"\n",
    "        Create a design matrix for a polynomial model, and return it.\n",
    "        \"\"\"\n",
    "        xdata = np.array(xdata).reshape(-1,1)\n",
    "        design_matrix = np.ones_like(xdata)\n",
    "        for deg in range(1, self.poldeg+1):\n",
    "            design_matrix = np.hstack((design_matrix, xdata**deg))\n",
    "        return design_matrix\n",
    "\n",
    "    def predict(self, theta, xpred):\n",
    "        \"\"\"\n",
    "        Perform a prediction, y_pred = X_pred \\theta.\n",
    "        \"\"\"\n",
    "        Xpred = self.create_polynomial_design_matrix(xpred)\n",
    "        ypred = np.matmul(Xpred, theta)\n",
    "        return ypred\n",
    "\n",
    "    def solve_normal_equation(self):\n",
    "        \"\"\"\n",
    "        Solves the normal equation and updates the parameters theta.\n",
    "        \"\"\"\n",
    "        X = self.design_matrix\n",
    "        # matrix-matrix and matrix-vector operations\n",
    "        XTX = np.matmul(X.T, X)\n",
    "        XTy = np.matmul(X.T, self.ydata)\n",
    "        # pseudoinverse\n",
    "        XTXinv = np.linalg.inv(XTX)\n",
    "        # solution of the normal equation\n",
    "        theta = np.matmul(XTXinv,XTy)\n",
    "        return theta, XTXinv\n",
    "\n",
    "    def estimate_variance_opt(self):\n",
    "        \"\"\"\n",
    "        Unbiased estimator of the variance\n",
    "        \"\"\"\n",
    "        variance_opt = np.matmul(self.residuals_opt.T,self.residuals_opt) / (self.Nd-self.Np)\n",
    "        return variance_opt[0,0]\n",
    "\n",
    "    def confidence_interval_estimate_sigma(self,alpha):\n",
    "        \"\"\"\n",
    "        1-alpha confidence interval when sigma must be estimated from data\n",
    "        \"\"\"\n",
    "        tscale = stats.t.ppf(1-alpha/2.,df=self.Nd-self.Np,loc=0,scale=1.)\n",
    "        s_sq = self.variance_opt\n",
    "        d_theta = np.sqrt( s_sq * np.diag(self.XTXinv) ) * tscale\n",
    "        lo = self.theta_opt.flatten() - d_theta.flatten()\n",
    "        hi = self.theta_opt.flatten() + d_theta.flatten()\n",
    "        return(lo,hi)\n",
    "\n",
    "    def confidence_interval_known_sigma(self,alpha, sigma):\n",
    "        \"\"\"\n",
    "        1-alpha confidence interval when sigma is known\n",
    "        \"\"\"\n",
    "        nscale = stats.norm.ppf(1-alpha/2.,loc=0,scale=1.)\n",
    "        s_sq = sigma**2\n",
    "        d_theta = np.sqrt( s_sq * np.diag(self.XTXinv) ) * nscale\n",
    "        lo = self.theta_opt.flatten() - d_theta.flatten()\n",
    "        hi = self.theta_opt.flatten() + d_theta.flatten()\n",
    "        return(lo,hi)"
   ]
  },
  {
   "cell_type": "markdown",
   "id": "9185d72b-6a6d-44d6-85ff-accd7b377783",
   "metadata": {},
   "source": [
    "### Optimal parameters, estimated variance, confidence interval"
   ]
  },
  {
   "cell_type": "code",
   "execution_count": 18,
   "id": "8d3348d8-9471-4116-89be-bcfdd259997c",
   "metadata": {},
   "outputs": [],
   "source": [
    "poldeg_model = len(process.true_params)-1"
   ]
  },
  {
   "cell_type": "code",
   "execution_count": 19,
   "id": "5583f5eb-9361-4891-bbb9-bedceb420468",
   "metadata": {},
   "outputs": [],
   "source": [
    "LinearModel = LinearRegression(process.xdata, process.ydata, poldeg_model)"
   ]
  },
  {
   "cell_type": "code",
   "execution_count": 20,
   "id": "d65fecbb-11a7-4d22-a35b-3094ca509fca",
   "metadata": {},
   "outputs": [
    {
     "data": {
      "text/plain": [
       "array([[-3.6147605 ],\n",
       "       [-1.06324813],\n",
       "       [-0.44746295]])"
      ]
     },
     "execution_count": 20,
     "metadata": {},
     "output_type": "execute_result"
    }
   ],
   "source": [
    "LinearModel.theta_opt"
   ]
  },
  {
   "cell_type": "markdown",
   "id": "da50845c-624a-4421-83db-7a0bdeacf617",
   "metadata": {},
   "source": [
    "### Resample data"
   ]
  },
  {
   "cell_type": "code",
   "execution_count": 26,
   "id": "b9be70bf-2107-4929-9ba3-d37d064bc178",
   "metadata": {},
   "outputs": [],
   "source": [
    "LinearModel_newdata = LinearRegression(process.xdata, process.measurement(), poldeg_model)"
   ]
  },
  {
   "cell_type": "code",
   "execution_count": 27,
   "id": "25fd746a-6566-474f-aaf8-82821c8460ae",
   "metadata": {},
   "outputs": [
    {
     "data": {
      "text/plain": [
       "array([[-3.58427494],\n",
       "       [-1.26295313],\n",
       "       [-0.28515624]])"
      ]
     },
     "execution_count": 27,
     "metadata": {},
     "output_type": "execute_result"
    }
   ],
   "source": [
    "LinearModel_newdata.theta_opt"
   ]
  },
  {
   "cell_type": "markdown",
   "id": "a9d307bc-e9a3-417a-a5e3-01a164c8dc57",
   "metadata": {},
   "source": [
    "## Overfit model"
   ]
  },
  {
   "cell_type": "code",
   "execution_count": 28,
   "id": "65592703-85c1-4bc4-a89e-e1540cb31532",
   "metadata": {},
   "outputs": [
    {
     "data": {
      "text/plain": [
       "array([[  -2.32664733],\n",
       "       [ -40.68007844],\n",
       "       [ 296.94421956],\n",
       "       [-841.307314  ],\n",
       "       [ 887.68656757],\n",
       "       [-191.0503649 ]])"
      ]
     },
     "execution_count": 28,
     "metadata": {},
     "output_type": "execute_result"
    }
   ],
   "source": [
    "poldeg_overfit = 5\n",
    "LinearModel_overfit = LinearRegression(process.xdata, process.ydata, poldeg_overfit)\n",
    "LinearModel_overfit.theta_opt"
   ]
  },
  {
   "cell_type": "code",
   "execution_count": 29,
   "id": "1baed691-0892-4095-ada1-1c71b1d8f7a3",
   "metadata": {},
   "outputs": [
    {
     "data": {
      "text/plain": [
       "array([-3.71886367, -0.49614062, -1.29201976])"
      ]
     },
     "execution_count": 29,
     "metadata": {},
     "output_type": "execute_result"
    }
   ],
   "source": [
    "process.true_params"
   ]
  },
  {
   "cell_type": "code",
   "execution_count": 31,
   "id": "e5caca9d-1972-4836-906d-6922d9432f44",
   "metadata": {},
   "outputs": [
    {
     "data": {
      "text/plain": [
       "array([[ 6.54095882e+00],\n",
       "       [-3.37546981e+02],\n",
       "       [ 3.07799503e+03],\n",
       "       [-1.20192836e+04],\n",
       "       [ 2.13549187e+04],\n",
       "       [-1.42169146e+04]])"
      ]
     },
     "execution_count": 31,
     "metadata": {},
     "output_type": "execute_result"
    }
   ],
   "source": [
    "LinearModel_overfit = LinearRegression(process.xdata, process.measurement(), poldeg_overfit)\n",
    "LinearModel_overfit.theta_opt"
   ]
  },
  {
   "cell_type": "markdown",
   "id": "ed461e15-af9f-430e-afeb-e7957e230c2d",
   "metadata": {},
   "source": [
    "## Confidence intervals"
   ]
  },
  {
   "cell_type": "code",
   "execution_count": 32,
   "id": "d79ec444-d6be-4834-be40-7cea41dac37c",
   "metadata": {},
   "outputs": [
    {
     "data": {
      "text/plain": [
       "array([[-3.6147605 ],\n",
       "       [-1.06324813],\n",
       "       [-0.44746295]])"
      ]
     },
     "execution_count": 32,
     "metadata": {},
     "output_type": "execute_result"
    }
   ],
   "source": [
    "LinearModel.theta_opt"
   ]
  },
  {
   "cell_type": "code",
   "execution_count": 33,
   "id": "624176a8-3837-4391-8044-ae09103ad1da",
   "metadata": {},
   "outputs": [
    {
     "data": {
      "text/plain": [
       "(array([-3.919816  , -3.62668179, -5.25411342]),\n",
       " array([-3.30970499,  1.50018553,  4.35918751]))"
      ]
     },
     "execution_count": 33,
     "metadata": {},
     "output_type": "execute_result"
    }
   ],
   "source": [
    "LinearModel.confidence_interval_estimate_sigma(0.05)"
   ]
  },
  {
   "cell_type": "code",
   "execution_count": 34,
   "id": "a79565c5-cccf-4770-93cc-b52f5394b3ef",
   "metadata": {},
   "outputs": [
    {
     "data": {
      "text/plain": [
       "(array([-3.88011573, -3.29307365, -4.62857052]),\n",
       " array([-3.34940526,  1.16657738,  3.73364461]))"
      ]
     },
     "execution_count": 34,
     "metadata": {},
     "output_type": "execute_result"
    }
   ],
   "source": [
    "LinearModel.confidence_interval_known_sigma(0.05,process.sigma_error)"
   ]
  },
  {
   "cell_type": "code",
   "execution_count": 35,
   "id": "19cb7ad1-90fa-43bf-96ba-8e77ad5c20ff",
   "metadata": {},
   "outputs": [
    {
     "data": {
      "text/plain": [
       "array([-3.71886367, -0.49614062, -1.29201976])"
      ]
     },
     "execution_count": 35,
     "metadata": {},
     "output_type": "execute_result"
    }
   ],
   "source": [
    "process.true_params"
   ]
  },
  {
   "cell_type": "markdown",
   "id": "e16c6526-7d80-4458-8455-3de286f19a14",
   "metadata": {},
   "source": [
    "### Test confidence intervals"
   ]
  },
  {
   "cell_type": "code",
   "execution_count": 36,
   "id": "46e201dc-85fa-4330-a66b-157830527b50",
   "metadata": {},
   "outputs": [],
   "source": [
    "N_future_data = 10000\n",
    "N_pars = len(process.true_params)\n",
    "in_CI = np.zeros((N_future_data,N_pars))\n",
    "in_CI_known_sigma = np.zeros((N_future_data,N_pars))\n",
    "alpha = 0.05\n",
    "for idata in range(N_future_data):\n",
    "    LinearModel_i = LinearRegression(process.xdata, process.measurement(), N_pars-1)\n",
    "    lo,hi = LinearModel_i.confidence_interval_estimate_sigma(alpha)\n",
    "    in_CI[idata,:] = np.logical_and(process.true_params > lo, process.true_params < hi)\n",
    "    lo,hi = LinearModel_i.confidence_interval_known_sigma(alpha, process.sigma_error)\n",
    "    in_CI_known_sigma[idata,:] = np.logical_and(process.true_params > lo, process.true_params < hi)"
   ]
  },
  {
   "cell_type": "code",
   "execution_count": 37,
   "id": "964aee19-6002-463b-b12d-848ed74c90ad",
   "metadata": {},
   "outputs": [
    {
     "data": {
      "text/plain": [
       "array([0.9482, 0.9479, 0.948 ])"
      ]
     },
     "execution_count": 37,
     "metadata": {},
     "output_type": "execute_result"
    }
   ],
   "source": [
    "np.sum(in_CI,axis=0) / N_future_data"
   ]
  },
  {
   "cell_type": "code",
   "execution_count": 38,
   "id": "685a88f8-e11e-471d-a4cb-1aba615cd507",
   "metadata": {},
   "outputs": [
    {
     "data": {
      "text/plain": [
       "array([0.9477, 0.9477, 0.9475])"
      ]
     },
     "execution_count": 38,
     "metadata": {},
     "output_type": "execute_result"
    }
   ],
   "source": [
    "np.sum(in_CI_known_sigma,axis=0) / N_future_data"
   ]
  },
  {
   "cell_type": "markdown",
   "id": "30455bd6-82b3-496a-9687-435e2280031d",
   "metadata": {},
   "source": [
    "### Overfit model: Confidence interval"
   ]
  },
  {
   "cell_type": "code",
   "execution_count": 39,
   "id": "3892a94f-3753-42c9-9975-ec90f523f4be",
   "metadata": {},
   "outputs": [
    {
     "data": {
      "text/plain": [
       "array([[  -2.32664733],\n",
       "       [ -40.68007844],\n",
       "       [ 296.94421956],\n",
       "       [-841.307314  ],\n",
       "       [ 887.68656757],\n",
       "       [-191.0503649 ]])"
      ]
     },
     "execution_count": 39,
     "metadata": {},
     "output_type": "execute_result"
    }
   ],
   "source": [
    "poldeg_overfit = 5\n",
    "LinearModel_overfit = LinearRegression(process.xdata, process.ydata, poldeg_overfit)\n",
    "LinearModel_overfit.theta_opt"
   ]
  },
  {
   "cell_type": "code",
   "execution_count": 41,
   "id": "95f4f175-3c28-4809-9c5e-5c7099ecbe76",
   "metadata": {},
   "outputs": [
    {
     "name": "stdout",
     "output_type": "stream",
     "text": [
      "par 0:   -2.33 95% CI = [-28.77, 24.12]\n",
      "par 1:  -40.68 95% CI = [-913.15, 831.79]\n",
      "par 2:  296.94 95% CI = [-7630.65, 8224.54]\n",
      "par 3: -841.31 95% CI = [-31386.76, 29704.15]\n",
      "par 4:  887.69 95% CI = [-52480.57, 54255.95]\n",
      "par 5: -191.05 95% CI = [-35078.66, 34696.56]\n"
     ]
    }
   ],
   "source": [
    "lo,hi = LinearModel_overfit.confidence_interval_estimate_sigma(alpha)\n",
    "for ipar, par in enumerate(LinearModel_overfit.theta_opt.flatten()):\n",
    "    print(f'par {ipar}: {par:7.2f} {100*(1-alpha):.0f}% CI = [{lo[ipar]:.2f}, {hi[ipar]:.2f}]')"
   ]
  },
  {
   "cell_type": "code",
   "execution_count": null,
   "id": "70229f69-123b-4d18-a00d-ebcd0c0eafcc",
   "metadata": {},
   "outputs": [],
   "source": []
  }
 ],
 "metadata": {
  "kernelspec": {
   "display_name": "Python 3 (ipykernel)",
   "language": "python",
   "name": "python3"
  },
  "language_info": {
   "codemirror_mode": {
    "name": "ipython",
    "version": 3
   },
   "file_extension": ".py",
   "mimetype": "text/x-python",
   "name": "python",
   "nbconvert_exporter": "python",
   "pygments_lexer": "ipython3",
   "version": "3.12.5"
  }
 },
 "nbformat": 4,
 "nbformat_minor": 5
}
