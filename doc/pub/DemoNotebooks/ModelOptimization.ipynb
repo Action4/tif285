{
 "cells": [
  {
   "cell_type": "markdown",
   "id": "2d869018-c228-44ed-a53d-7323bc41a061",
   "metadata": {},
   "source": [
    "# (non-linear) model optimization"
   ]
  },
  {
   "cell_type": "code",
   "execution_count": null,
   "id": "6964812b-4b80-4197-ab7a-5d11b48e1ff9",
   "metadata": {},
   "outputs": [],
   "source": [
    "import numpy as np\n",
    "import scipy.stats as stats\n",
    "import scipy.optimize as so\n",
    "import matplotlib.pyplot as plt"
   ]
  },
  {
   "cell_type": "markdown",
   "id": "31d49704-9a3f-49af-8499-f62cde89d7dd",
   "metadata": {},
   "source": [
    "## Data generating process"
   ]
  },
  {
   "cell_type": "markdown",
   "id": "2377171e-06ee-4c98-b375-0094df723b10",
   "metadata": {},
   "source": [
    "Let's consider the free fall of an object from rest, with a drag force proportional to the quadratic velocity $F_D = \\beta v^2$. The drag force parameter is\n",
    "\n",
    "$$\n",
    "\\beta = \\frac{1}{2} C A \\rho,\n",
    "$$\n",
    "\n",
    "where $C$ is the drag coefficient, $A$ the object's cross section area, and $\\rho$ the density of the liquid therough which the object falls. With Newton's law of mation one can derive\n",
    "\n",
    "$$\n",
    "v(t) = v_T \\tanh \\left( \\frac{v_T \\beta}{m} t \\right) \\equiv v_T \\tanh \\left( \\beta_t t \\right), \n",
    "$$\n",
    "\n",
    "where $\\beta_t \\equiv \\frac{v_T \\beta}{m}$ and $v_T$ is the terminal velocity\n",
    "\n",
    "$$\n",
    "v_T = \\sqrt{ \\frac{2 m g}{\\rho C A} }.\n",
    "$$\n",
    "\n",
    "Consider a 75-kg skydiver descending head first. We estimate the area $A = 0.18 \\mathrm{m}^2$ and a drag coefficient of approximately $C \\approx 0.7$. Assume the density of air is $\\rho = 1.21 \\mathrm{kg m}^{-3}$. With these parameter values we find that the terminal velocity is\n",
    "\n",
    "$$\n",
    "v_T = \\sqrt{ \\frac{2 (75 \\mathrm{kg}) (9.80 \\mathrm{m/s}^2)}{(1.21 \\mathrm{kg m}^{-3}) (0.70) (0.18 \\mathrm{m}^2)} } = 98 \\mathrm{m/s},\n",
    "$$\n",
    "\n",
    "and\n",
    "\n",
    "$$\n",
    "\\beta_t = \\frac{(98 \\mathrm{m/s}) 0.5 (0.70) (0.18 \\mathrm{m}^2) (1.21 \\mathrm{kg m}^{-3})}{(75 \\mathrm{kg})} = 0.1 \\mathrm{s}^{-1}\n",
    "$$"
   ]
  },
  {
   "cell_type": "code",
   "execution_count": null,
   "id": "4d0e0e70-d710-4cca-8608-9ac4053ef16f",
   "metadata": {},
   "outputs": [],
   "source": [
    "class DataGeneration():\n",
    "    def __init__(self, Nd=8, tmin=0.0, tmax=10.0, error=0.1, seed=None):\n",
    "        self.rng=np.random.default_rng(seed=seed)\n",
    "        self.tdata = np.sort(self.rng.uniform(low=tmin, high=tmax, size=(Nd,1)),axis=0)\n",
    "        self.mass = 75\n",
    "        self.g = 9.80\n",
    "        self.rho = 1.21\n",
    "        self.A = 0.18\n",
    "        # Introduce a randomness when setting the drag coefficient\n",
    "        self.C = self.rng.uniform(low=0.5, high=0.9)\n",
    "        self.v_T = np.sqrt( 2 * self.mass * self.g / (self.rho * self.C * self.A) )\n",
    "        self.beta = 0.5 * self.C * self.A * self.rho\n",
    "        self.true_params = self.v_T * np.array([ 1, self.beta / self.mass])\n",
    "        # Measurement error\n",
    "        self.sigma_error=error\n",
    "        self.vdata = self.measurement()\n",
    "        \n",
    "    def true_model(self, params, tdata):\n",
    "        vtrue = params[0] * np.tanh(params[1]*tdata)\n",
    "        return vtrue\n",
    "\n",
    "    def measurement(self):\n",
    "        vdata = self.true_model(self.true_params, self.tdata)\n",
    "        verror = self.rng.normal(0,self.sigma_error,len(self.tdata)).reshape(-1,1)\n",
    "        return vdata + verror"
   ]
  },
  {
   "cell_type": "code",
   "execution_count": null,
   "id": "5295aa84-2210-4561-80f4-ef5001d7dcef",
   "metadata": {},
   "outputs": [],
   "source": [
    "tmin=0.0\n",
    "tmax=10.\n",
    "Nd=8\n",
    "seed=42\n",
    "process = DataGeneration(Nd=Nd, tmin=tmin, tmax=tmax, seed=seed)"
   ]
  },
  {
   "cell_type": "code",
   "execution_count": null,
   "id": "67f10d14-eb86-4090-8de1-254de61cd327",
   "metadata": {},
   "outputs": [],
   "source": [
    "process.true_params"
   ]
  },
  {
   "cell_type": "code",
   "execution_count": null,
   "id": "2ff631be-b96a-4148-b522-cdad76999b7d",
   "metadata": {},
   "outputs": [],
   "source": [
    "process.tdata"
   ]
  },
  {
   "cell_type": "code",
   "execution_count": null,
   "id": "5ec1c35c-6551-49cd-957d-2672d6bb61c7",
   "metadata": {},
   "outputs": [],
   "source": [
    "fig,ax = plt.subplots(1,1)\n",
    "ax.errorbar(process.tdata.flatten(),process.vdata.flatten(),yerr=process.sigma_error,fmt='o',label=r'$\\mathcal{D}$')\n",
    "t_plot = np.linspace(tmin,tmax,100)\n",
    "v_plot = process.true_model(process.true_params, t_plot)\n",
    "ax.plot(t_plot, v_plot, 'r-', label='True model')\n",
    "ax.set_xlabel(r'$t$')\n",
    "ax.set_ylabel(r'$v$')\n",
    "ax.legend(loc='best');"
   ]
  },
  {
   "cell_type": "markdown",
   "id": "e85765d3-fcfd-46c3-b20a-df771e6f26fa",
   "metadata": {},
   "source": [
    "## Optimize model\n",
    "Assume first that we know the true model which enters the data generating process. We want to optimize the model parameters to best fit the observed data.\n",
    "\n",
    "We will minimize the least-squares cost function using a non-linear optimization method from `scipy.optimize`. Specifically we will use the [Levenberg-Marquardt algorithm](https://en.wikipedia.org/wiki/Levenberg–Marquardt_algorithm) in which the gradient is not provided but will be estimated in the iterative optimization."
   ]
  },
  {
   "cell_type": "code",
   "execution_count": null,
   "id": "181d9ecd-e3b2-4c3a-b08c-f1a861813b0a",
   "metadata": {},
   "outputs": [],
   "source": [
    "def model_true(theta, t):\n",
    "    \"evaluate our model at t given parameters theta\"\n",
    "    return theta[0] * np.tanh(theta[1] * t)\n",
    "\n",
    "def residuals(theta, tdata, vdata, model):\n",
    "    \"return a vector of residuals for given data, model, and model parameters (1st argument)\"\n",
    "    v_model = model(theta, tdata)\n",
    "    return v_model - vdata"
   ]
  },
  {
   "cell_type": "code",
   "execution_count": null,
   "id": "89cebce6-5cb3-474a-b0b7-1090fb1858c6",
   "metadata": {},
   "outputs": [],
   "source": [
    "theta_start = np.array([100,0.1])\n",
    "# Read the manual of `scipy.optimize.least_squares`\n",
    "# Here we use the Levenberg-Marquardt method\n",
    "res_lsq = so.least_squares(residuals, theta_start, method='lm', \\\n",
    "                           args=(process.tdata.flatten(), process.vdata.flatten(), model_true))\n",
    "print(res_lsq)"
   ]
  },
  {
   "cell_type": "code",
   "execution_count": null,
   "id": "87efc386-cfb8-4ef4-b3ae-32bbe5a4db1d",
   "metadata": {
    "scrolled": true
   },
   "outputs": [],
   "source": [
    "print('       best fit: ', res_lsq.x)\n",
    "print('true parameters: ', process.true_params)\n",
    "print('  cost function: ', res_lsq.cost)"
   ]
  },
  {
   "cell_type": "markdown",
   "id": "be23def3-f179-4bde-8fa8-29e8fad9b577",
   "metadata": {},
   "source": [
    "## Optimize complex model\n",
    "Assume instead that we use a too complex model with an extra parameter $\\beta_2$.\n",
    "\n",
    "$$\n",
    "v(t) = v_T \\tanh \\left( \\beta_t t \\right) \\left( 1 - e^{-\\beta_2 t} \\right)\n",
    "$$"
   ]
  },
  {
   "cell_type": "code",
   "execution_count": null,
   "id": "4b30d9e6-2e73-4d18-84b9-56e779c5d6d0",
   "metadata": {},
   "outputs": [],
   "source": [
    "def model_complex(theta, t):\n",
    "    \"evaluate our model at t given parameters theta. len(theta)=3\"\n",
    "    return theta[0] * np.tanh(theta[1] * t) * (1 - np.exp(-theta[2]*t))"
   ]
  },
  {
   "cell_type": "code",
   "execution_count": null,
   "id": "924fb421-a1ee-4975-bf6e-0890894ac6c7",
   "metadata": {},
   "outputs": [],
   "source": [
    "theta_start = np.array([100,0.07, 10])\n",
    "res_lsq_complex = so.least_squares(residuals, theta_start, method='lm',\\\n",
    "                                   args=(process.tdata.flatten(), process.vdata.flatten(), model_complex))\n",
    "print(res_lsq_complex)"
   ]
  },
  {
   "cell_type": "code",
   "execution_count": null,
   "id": "71e622e2-0ca1-4881-973c-dbaadbcb1e37",
   "metadata": {
    "scrolled": true
   },
   "outputs": [],
   "source": [
    "print('       best fit: ', res_lsq_complex.x)\n",
    "print('true parameters: ', process.true_params)\n",
    "print('  cost function: ', res_lsq_complex.cost)"
   ]
  },
  {
   "cell_type": "markdown",
   "id": "a7a7fe5d-49a9-48c3-ba0c-d3cecdce8a0c",
   "metadata": {},
   "source": [
    "Explore and reflect on:\n",
    "- the choice of starting guess\n",
    "- the value of the cost function at the optimum\n",
    "- the values of the optimum parameters\n",
    "- assuming that the goal is to infer the terminal velocity, what do you conclude?"
   ]
  },
  {
   "cell_type": "code",
   "execution_count": null,
   "id": "706a7f08-9f74-4bca-aeee-e7ed196a0fc9",
   "metadata": {},
   "outputs": [],
   "source": []
  }
 ],
 "metadata": {
  "kernelspec": {
   "display_name": "Python 3 (ipykernel)",
   "language": "python",
   "name": "python3"
  },
  "language_info": {
   "codemirror_mode": {
    "name": "ipython",
    "version": 3
   },
   "file_extension": ".py",
   "mimetype": "text/x-python",
   "name": "python",
   "nbconvert_exporter": "python",
   "pygments_lexer": "ipython3",
   "version": "3.9.17"
  }
 },
 "nbformat": 4,
 "nbformat_minor": 5
}
