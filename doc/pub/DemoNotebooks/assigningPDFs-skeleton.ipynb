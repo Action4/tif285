{
 "cells": [
  {
   "cell_type": "markdown",
   "id": "2d869018-c228-44ed-a53d-7323bc41a061",
   "metadata": {},
   "source": [
    "# Assigning probabilities"
   ]
  },
  {
   "cell_type": "code",
   "execution_count": null,
   "id": "6964812b-4b80-4197-ab7a-5d11b48e1ff9",
   "metadata": {},
   "outputs": [],
   "source": [
    "import numpy as np\n",
    "import scipy.stats as stats\n",
    "import matplotlib.pyplot as plt"
   ]
  },
  {
   "cell_type": "markdown",
   "id": "ccda7920-772f-41c7-ae97-9420f7ebda21",
   "metadata": {},
   "source": [
    "## Scale parameters and symmetry invariance"
   ]
  },
  {
   "cell_type": "code",
   "execution_count": null,
   "id": "961c73a1-eaf5-4b10-9257-58c8b60df0d6",
   "metadata": {},
   "outputs": [],
   "source": [
    "# straight line model with fixed intercept at y=x=0.\n",
    "\n",
    "# Collect samples from three different priors in a dictionary\n",
    "# 1. uniform [0,10]\n",
    "# 2. Jeffrey's prior; uniform in log [0.01,10]\n",
    "# 3. Symmetry x <-> y; uniform in angle\n",
    "#                      max slope = 10 => sin(arctan(10)) = 0.995"
   ]
  },
  {
   "cell_type": "code",
   "execution_count": null,
   "id": "ab03f427-16b6-42f9-b4c8-219c1b9eed68",
   "metadata": {},
   "outputs": [],
   "source": [
    "# Consider x in [0,1]\n",
    "xLinspace = np.array([0,1]).reshape(-1,1)\n",
    "\n",
    "# Set up figure with three columns (one per prior)\n",
    "# First row with prior straight-line model samples\n",
    "# Second row with prior predictive distribution\n",
    "fig_slopeSamples, axs = plt.subplots(nrows=2,ncols=3,sharey=True, sharex=True)\n",
    "\n",
    "for iax, (prior,slopes) in enumerate(priorSamplesSlope.items()):\n",
    "    ax=axs[0,iax]\n",
    "    ax.plot(xLinspace, xLinspace*slopes, color='k', alpha=0.1)\n",
    "    ax.set_xlim(0,1)\n",
    "    ax.set_ylim(0,1)\n",
    "    if ax.get_subplotspec().is_first_col():\n",
    "        ax.set_ylabel(r'$y = \\theta x$')\n",
    "    ax.set_title(f'{prior} prior')\n",
    "\n",
    "for iax, (prior,slopes) in enumerate(priorSamplesSlope.items()):\n",
    "    ax=axs[1,iax]\n",
    "    ax.plot(xLinspace, (xLinspace*slopes).mean(axis=1), color='b', alpha=0.9,label='mean')\n",
    "    ax.fill_between(xLinspace.flatten(), np.percentile(xLinspace*slopes, 16.,axis=1), \n",
    "                    np.percentile(xLinspace*slopes, 84.,axis=1), color='b', alpha=0.2,\n",
    "                   label='68% CR')\n",
    "    ax.fill_between(xLinspace.flatten(), np.percentile(xLinspace*slopes, 2.5,axis=1), \n",
    "                    np.percentile(xLinspace*slopes, 97.5,axis=1), color='b', alpha=0.1,\n",
    "                   label='95% CR')\n",
    "    ax.set_xlim(0,1)\n",
    "    ax.set_ylim(0,1.)\n",
    "    ax.set_xlabel(r'$x$')\n",
    "    if ax.get_subplotspec().is_first_col():\n",
    "        ax.set_ylabel(r'$y = \\theta x$')\n",
    "        ax.legend(loc='best')"
   ]
  },
  {
   "cell_type": "markdown",
   "id": "8b068435-28f1-49f7-b624-fbac503d58c8",
   "metadata": {},
   "source": [
    "## The entropy of Scandinavians"
   ]
  },
  {
   "cell_type": "markdown",
   "id": "c8c402ce-78d9-4405-961a-863d65fed43b",
   "metadata": {},
   "source": [
    "We can construct a 2x2 contingency table for the characteristics of Scandinavians. Note that we know that 70% are blonde and 10% are left handed. Together with the normalization condition the only remaining unknown is $x \\in [0,0.1].$\n",
    "\n",
    "|  | Left-handed | NOT Left-handed |\n",
    "|:--------:|:--------:|:--------:|\n",
    "|  Blonde   |  $p_1=x$  |  $p_2=0.7-x$   |\n",
    "|  NOT Blonde   |  $p_3=0.1-x$   |  $p_4=0.2+x$  |"
   ]
  },
  {
   "cell_type": "code",
   "execution_count": null,
   "id": "47d9c5ff-47c6-4754-809f-fb2d5ec20a69",
   "metadata": {},
   "outputs": [],
   "source": [
    "fig, ax = plt.subplots(nrows=1,ncols=1,sharey=True, sharex=True)\n",
    "\n",
    "ax.plot(xprob, S, color='k')\n",
    "ax.set_ylabel(r'$S = -\\sum_i p_i \\log(p_i)$')\n",
    "ax.set_xlabel(r'$p_1=x$');"
   ]
  },
  {
   "cell_type": "code",
   "execution_count": null,
   "id": "56fc0e1f-2bec-4724-a0e5-26e2c048d378",
   "metadata": {},
   "outputs": [],
   "source": []
  }
 ],
 "metadata": {
  "kernelspec": {
   "display_name": "Python 3 (ipykernel)",
   "language": "python",
   "name": "python3"
  },
  "language_info": {
   "codemirror_mode": {
    "name": "ipython",
    "version": 3
   },
   "file_extension": ".py",
   "mimetype": "text/x-python",
   "name": "python",
   "nbconvert_exporter": "python",
   "pygments_lexer": "ipython3",
   "version": "3.9.17"
  }
 },
 "nbformat": 4,
 "nbformat_minor": 5
}
