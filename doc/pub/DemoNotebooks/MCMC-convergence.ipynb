{
 "cells": [
  {
   "cell_type": "code",
   "execution_count": null,
   "metadata": {
    "nbgrader": {
     "grade": false,
     "grade_id": "cell-f27c4016e4570c15",
     "locked": false,
     "schema_version": 3,
     "solution": true,
     "task": false
    },
    "slideshow": {
     "slide_type": ""
    },
    "tags": []
   },
   "outputs": [],
   "source": [
    "# importing modules\n",
    "import numpy as np\n",
    "import matplotlib.pyplot as plt\n",
    "import scipy.stats as stats\n",
    "\n",
    "import emcee\n",
    "import corner"
   ]
  },
  {
   "cell_type": "code",
   "execution_count": null,
   "metadata": {},
   "outputs": [],
   "source": [
    "# Sample code to make a corner plot with dashed lines indicating 16%, 50%, 84% quantiles\n",
    "# i.e. showing the median and the 68% equal-tail interval\n",
    "\n",
    "# Samples from a correlated, bivariate normal distribution\n",
    "my_mean = np.array([10., 0.5])\n",
    "my_cov = np.array([[25., 2.0],[2.0,0.25]])\n",
    "my_rv = stats.multivariate_normal(mean=my_mean, cov=my_cov)\n",
    "\n",
    "mysamples = my_rv.rvs(size=10000)\n",
    "\n",
    "corner.corner(mysamples,labels=[r\"$\\theta_1$\", r\"$\\theta_2$\"],show_titles=True,\n",
    "                       quantiles=[0.16, 0.5, 0.84],);"
   ]
  },
  {
   "cell_type": "code",
   "execution_count": null,
   "metadata": {},
   "outputs": [],
   "source": [
    "def rolling_moments(chain,lag=4000):\n",
    "    chain_lag = np.lib.stride_tricks.sliding_window_view(chain, lag)\n",
    "    rollmean = chain_lag.mean(axis=-1)\n",
    "    rollstd = chain_lag.std(axis=-1)\n",
    "    nan_lag = np.nan*np.ones(lag)\n",
    "    return (np.concatenate((nan_lag, rollmean)), np.concatenate((nan_lag, rollstd)))"
   ]
  },
  {
   "cell_type": "code",
   "execution_count": null,
   "metadata": {},
   "outputs": [],
   "source": [
    "def trace_plots(chain1, chain2, title_str = '', lag=4000):\n",
    "    ncols = 2\n",
    "    (nsamples,npars) = chain1.shape\n",
    "    fig,axs = plt.subplots(nrows=npars, ncols=ncols, sharex=True, sharey='row')\n",
    "    for ipar in range(npars):\n",
    "        for ichain, chain in enumerate([chain1, chain2]):\n",
    "            ax=axs[ipar, ichain]\n",
    "            ax.plot(chain[:,ipar])\n",
    "            (rollmean, rollstd) = rolling_moments(chain[:,ipar],lag=lag)\n",
    "            ax.plot(rollmean,'r-',label='roll. mean')\n",
    "            ax.plot(rollmean+rollstd,'r--',label='roll. std')\n",
    "            ax.plot(rollmean-rollstd,'r--')\n",
    "            axs[1,ichain].set_xlabel('iteration');\n",
    "            axs[0,ichain].set_title(f'chain {ichain} {title_str}')\n",
    "        axs[ipar,0].set_ylabel(rf'$\\theta_{ipar}$')\n",
    "    axs[1,1].legend(loc='best');"
   ]
  },
  {
   "cell_type": "markdown",
   "metadata": {},
   "source": [
    "### `scipy.stats` samples"
   ]
  },
  {
   "cell_type": "code",
   "execution_count": null,
   "metadata": {},
   "outputs": [],
   "source": [
    "Nsamples = 20000\n",
    "mysamples1 = my_rv.rvs(size=Nsamples)\n",
    "mysamples2 = my_rv.rvs(size=Nsamples)\n",
    "trace_plots(mysamples1, mysamples2, title_str = '(RNG)')"
   ]
  },
  {
   "cell_type": "markdown",
   "metadata": {},
   "source": [
    "### Metropolis sampling"
   ]
  },
  {
   "cell_type": "code",
   "execution_count": null,
   "metadata": {},
   "outputs": [],
   "source": [
    "my_proposal_widths = [0.1, 2., 50.]"
   ]
  },
  {
   "cell_type": "code",
   "execution_count": null,
   "metadata": {},
   "outputs": [],
   "source": [
    "init = np.random.randn(4, 2)\n",
    "nwalkers, ndim = init.shape\n",
    "Nsamples = 20000\n",
    "lag = 5000"
   ]
  },
  {
   "cell_type": "code",
   "execution_count": null,
   "metadata": {},
   "outputs": [],
   "source": [
    "for my_proposal_width in my_proposal_widths:\n",
    "    print(f'initializing and running Metropolis sampler for proposal width = {my_proposal_width}')\n",
    "    samplerM = emcee.EnsembleSampler(nwalkers, ndim, my_rv.logpdf, moves=emcee.moves.GaussianMove(np.eye(ndim)*my_proposal_width**2))\n",
    "    samplerM.run_mcmc(init, Nsamples)\n",
    "    samplesM = samplerM.get_chain()\n",
    "    print(f'...the average acceptance ratio is {samplerM.acceptance_fraction.mean()}')\n",
    "    #print('The estimated autocorrelation time is:')\n",
    "    #print(samplerM.acor)\n",
    "    trace_plots(samplesM[:,0,:], samplesM[:,1,:], title_str = rf'($\\sigma={my_proposal_width}$)', lag=lag)"
   ]
  },
  {
   "cell_type": "markdown",
   "metadata": {},
   "source": [
    "### Ensemble sampler with affine-invariant stretch move"
   ]
  },
  {
   "cell_type": "code",
   "execution_count": null,
   "metadata": {},
   "outputs": [],
   "source": [
    "# Ensamble sampler with affine-invariant stretch move\n",
    "samplerStretch = emcee.EnsembleSampler(nwalkers, ndim, my_rv.logpdf)\n",
    "samplerStretch.run_mcmc(init, Nsamples);\n",
    "samplesStretch = samplerStretch.get_chain()"
   ]
  },
  {
   "cell_type": "code",
   "execution_count": null,
   "metadata": {},
   "outputs": [],
   "source": [
    "trace_plots(samplesStretch[:,0,:], samplesStretch[:,1,:], title_str = rf'(stretch)', lag=lag)"
   ]
  },
  {
   "cell_type": "markdown",
   "metadata": {
    "jp-MarkdownHeadingCollapsed": true
   },
   "source": [
    "### Secret distribution"
   ]
  },
  {
   "cell_type": "code",
   "execution_count": null,
   "metadata": {},
   "outputs": [],
   "source": [
    "from scipy.signal import convolve"
   ]
  },
  {
   "cell_type": "code",
   "execution_count": null,
   "metadata": {},
   "outputs": [],
   "source": [
    "secret_mean1 = np.array([1.0, 2.0])\n",
    "secret_cov1 = np.array([[1., 0.25],[0.25,0.25]])\n",
    "secret_mean2 = np.array([1.5, -2.5])\n",
    "secret_cov2 = np.array([[1., -0.25],[-0.25,0.25]])\n",
    "def logpdf_secret(theta):\n",
    "    return 0.5 * stats.multivariate_normal(mean=secret_mean1, cov=secret_cov1).logpdf(theta) \\\n",
    "        + 0.5 * stats.multivariate_normal(mean=secret_mean2, cov=secret_cov2).logpdf(theta)"
   ]
  },
  {
   "cell_type": "code",
   "execution_count": null,
   "metadata": {},
   "outputs": [],
   "source": [
    "samplerM = emcee.EnsembleSampler(nwalkers, ndim, logpdf_secret, moves=emcee.moves.GaussianMove(np.eye(ndim)*0.1**2))\n",
    "samplerM.run_mcmc(init, Nsamples)\n",
    "samplesM = samplerM.get_chain()\n",
    "print(f'...the average acceptance ratio is {samplerM.acceptance_fraction.mean()}')\n",
    "trace_plots(samplesM[:,0,:], samplesM[:,2,:], title_str = rf'($\\sigma=0.1$)', lag=lag)"
   ]
  },
  {
   "cell_type": "code",
   "execution_count": null,
   "metadata": {},
   "outputs": [],
   "source": []
  }
 ],
 "metadata": {
  "celltoolbar": "Create Assignment",
  "kernelspec": {
   "display_name": "Python 3 (ipykernel)",
   "language": "python",
   "name": "python3"
  },
  "language_info": {
   "codemirror_mode": {
    "name": "ipython",
    "version": 3
   },
   "file_extension": ".py",
   "mimetype": "text/x-python",
   "name": "python",
   "nbconvert_exporter": "python",
   "pygments_lexer": "ipython3",
   "version": "3.12.5"
  },
  "nav_menu": {},
  "toc": {
   "navigate_menu": true,
   "number_sections": true,
   "sideBar": true,
   "threshold": 6,
   "toc_cell": false,
   "toc_section_display": "block",
   "toc_window_display": false
  }
 },
 "nbformat": 4,
 "nbformat_minor": 4
}
