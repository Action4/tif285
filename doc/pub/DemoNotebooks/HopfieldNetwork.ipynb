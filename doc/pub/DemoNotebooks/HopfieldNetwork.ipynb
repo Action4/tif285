{
 "cells": [
  {
   "cell_type": "markdown",
   "metadata": {
    "slideshow": {
     "slide_type": "slide"
    }
   },
   "source": [
    "# Demonstration: Associative memory of a Hopfield network"
   ]
  },
  {
   "cell_type": "code",
   "execution_count": null,
   "metadata": {
    "ExecuteTime": {
     "end_time": "2016-03-02T07:57:16.457264",
     "start_time": "2016-03-02T07:57:16.443739"
    },
    "slideshow": {
     "slide_type": "subslide"
    }
   },
   "outputs": [],
   "source": [
    "import numpy as np\n",
    "import scipy as sp\n",
    "import matplotlib.pyplot as plt"
   ]
  },
  {
   "cell_type": "markdown",
   "metadata": {},
   "source": [
    "### Create memory patterns"
   ]
  },
  {
   "cell_type": "markdown",
   "metadata": {},
   "source": [
    "Here we use 5x5 images to store different patterns. The memories that we will train the binary Hopfield network on correspond to letters."
   ]
  },
  {
   "cell_type": "code",
   "execution_count": null,
   "metadata": {},
   "outputs": [],
   "source": [
    "lettersX = {}\n",
    "lettersX['A'] = \"\"\"\n",
    ".XX..\n",
    "X..X.\n",
    "XXXX.\n",
    "X..X.\n",
    "X..X.\n",
    "\"\"\"\n",
    "lettersX['M'] = \"\"\"\n",
    "X...X\n",
    "XX.XX\n",
    "X.X.X\n",
    "X...X\n",
    "X...X\n",
    "\"\"\"\n",
    "lettersX['P'] = \"\"\"\n",
    "XXXX.\n",
    "X..X.\n",
    "XXXX.\n",
    "X....\n",
    "X....\n",
    "\"\"\"\n",
    "lettersX['H'] = \"\"\"\n",
    ".X..X\n",
    ".X..X\n",
    ".XXXX\n",
    ".X..X\n",
    ".X..X\n",
    "\"\"\"\n",
    "lettersX['Y'] = \"\"\"\n",
    "X...X\n",
    ".X.X.\n",
    "..X..\n",
    "..X..\n",
    "..X..\n",
    "\"\"\"\n",
    "lettersX['S'] = \"\"\"\n",
    "XXXXX\n",
    "X....\n",
    "XXXXX\n",
    "....X\n",
    "XXXXX\n",
    "\"\"\""
   ]
  },
  {
   "cell_type": "code",
   "execution_count": null,
   "metadata": {},
   "outputs": [],
   "source": [
    "def toHopfieldState(patternX):\n",
    "    return np.array([+1 if c=='X' else -1 for c in patternX.replace('\\n','')])"
   ]
  },
  {
   "cell_type": "code",
   "execution_count": null,
   "metadata": {},
   "outputs": [],
   "source": [
    "letters = {}\n",
    "for key, value in lettersX.items():\n",
    "    letters[key] =  toHopfieldState(value)"
   ]
  },
  {
   "cell_type": "code",
   "execution_count": null,
   "metadata": {},
   "outputs": [],
   "source": [
    "letters['A']"
   ]
  },
  {
   "cell_type": "code",
   "execution_count": null,
   "metadata": {},
   "outputs": [],
   "source": [
    "def displayHopfieldState(pattern, ax=None):\n",
    "    if ax is None:\n",
    "        fig, ax = plt.subplots(1,1,figsize=(3,3))\n",
    "    ax.imshow(pattern.reshape((5,5)), cmap=plt.cm.binary, interpolation='nearest')"
   ]
  },
  {
   "cell_type": "code",
   "execution_count": null,
   "metadata": {},
   "outputs": [],
   "source": [
    "fig,axs = plt.subplots(1,5, figsize=(10,4))\n",
    "for ax, key in zip(axs,['M','P','P','H','S']):\n",
    "    displayHopfieldState(letters[key],ax)"
   ]
  },
  {
   "cell_type": "markdown",
   "metadata": {},
   "source": [
    "### Train the network"
   ]
  },
  {
   "cell_type": "markdown",
   "metadata": {},
   "source": [
    "Let us just train on four selected letters."
   ]
  },
  {
   "cell_type": "code",
   "execution_count": null,
   "metadata": {},
   "outputs": [],
   "source": [
    "memories = np.array([letters['M'], letters['P'], letters['H'], letters['S'], ])"
   ]
  },
  {
   "cell_type": "code",
   "execution_count": null,
   "metadata": {},
   "outputs": [],
   "source": [
    "memories.shape"
   ]
  },
  {
   "cell_type": "code",
   "execution_count": null,
   "metadata": {},
   "outputs": [],
   "source": [
    "def trainHopfield(patterns):\n",
    "    M, C = patterns.shape\n",
    "    W = np.zeros((C,C))\n",
    "    # Hebbian learning\n",
    "    for p in patterns:\n",
    "        W += np.outer(p,p)\n",
    "    W[np.diag_indices(C)] = 0\n",
    "    # Scaling of weights by number of train patterns\n",
    "    return W / M"
   ]
  },
  {
   "cell_type": "code",
   "execution_count": null,
   "metadata": {},
   "outputs": [],
   "source": [
    "HopfieldWeights = trainHopfield(memories)\n",
    "HopfieldWeights.shape"
   ]
  },
  {
   "cell_type": "code",
   "execution_count": null,
   "metadata": {},
   "outputs": [],
   "source": [
    "plt.imshow(HopfieldWeights, interpolation='nearest')\n",
    "plt.colorbar();"
   ]
  },
  {
   "cell_type": "markdown",
   "metadata": {},
   "source": [
    "### Energy of Hopfield network states"
   ]
  },
  {
   "cell_type": "code",
   "execution_count": null,
   "metadata": {},
   "outputs": [],
   "source": [
    "# Measure the energy of a Hopfield state\n",
    "def energyHopfieldState(W, p):\n",
    "    return -0.5 * np.dot(np.dot(p.T, W), p)"
   ]
  },
  {
   "cell_type": "code",
   "execution_count": null,
   "metadata": {},
   "outputs": [],
   "source": [
    "fig,axs = plt.subplots(1,4, figsize=(10,4))\n",
    "for ax, key in zip(axs,['M','P','H','S']):\n",
    "    displayHopfieldState(letters[key],ax)\n",
    "    ax.set_title(f'Memory (E={(energyHopfieldState(HopfieldWeights, letters[key]))})')\n",
    "fig,axs = plt.subplots(1,2, figsize=(5,4))\n",
    "for ax, key in zip(axs,['A','Y']):\n",
    "    displayHopfieldState(letters[key],ax)\n",
    "    ax.set_title(f'Non-memory (E={(energyHopfieldState(HopfieldWeights, letters[key]))})')"
   ]
  },
  {
   "cell_type": "markdown",
   "metadata": {},
   "source": [
    "### Distorted letters"
   ]
  },
  {
   "cell_type": "code",
   "execution_count": null,
   "metadata": {},
   "outputs": [],
   "source": [
    "def distort(p, size=5):\n",
    "    pcopy = p.copy()\n",
    "    inds = np.arange(25)\n",
    "    np.random.shuffle(inds)\n",
    "    for ibit in inds[:size]:\n",
    "        #print(f'Flipping bit {ibit}')\n",
    "        pcopy[ibit] *= -1\n",
    "    return pcopy"
   ]
  },
  {
   "cell_type": "code",
   "execution_count": null,
   "metadata": {},
   "outputs": [],
   "source": [
    "letters['A']"
   ]
  },
  {
   "cell_type": "code",
   "execution_count": null,
   "metadata": {},
   "outputs": [],
   "source": [
    "pDistort = distort(letters['A'])"
   ]
  },
  {
   "cell_type": "code",
   "execution_count": null,
   "metadata": {},
   "outputs": [],
   "source": [
    "pDistort"
   ]
  },
  {
   "cell_type": "code",
   "execution_count": null,
   "metadata": {},
   "outputs": [],
   "source": [
    "np.sum(pDistort!=letters['A'])"
   ]
  },
  {
   "cell_type": "code",
   "execution_count": null,
   "metadata": {},
   "outputs": [],
   "source": [
    "distortedLetters = {}\n",
    "for key, value in letters.items():\n",
    "    distortedLetters[key] =  distort(value)"
   ]
  },
  {
   "cell_type": "code",
   "execution_count": null,
   "metadata": {},
   "outputs": [],
   "source": [
    "fig,axs = plt.subplots(1,6, figsize=(15,4))\n",
    "for ax, (key, dpattern) in zip(axs,distortedLetters.items()):\n",
    "    displayHopfieldState(dpattern,ax)\n",
    "    ax.set_title(f'Distorted {key} (E={(energyHopfieldState(HopfieldWeights, dpattern))})')"
   ]
  },
  {
   "cell_type": "markdown",
   "metadata": {},
   "source": [
    "### Recall memory"
   ]
  },
  {
   "cell_type": "code",
   "execution_count": null,
   "metadata": {},
   "outputs": [],
   "source": [
    "def recall(W, p, steps=5):\n",
    "    pcopy = p.copy()\n",
    "    for _ in range(steps):\n",
    "        pcopy = np.sign(np.dot(pcopy, W))\n",
    "    return pcopy"
   ]
  },
  {
   "cell_type": "code",
   "execution_count": null,
   "metadata": {},
   "outputs": [],
   "source": [
    "p_recall = recall(HopfieldWeights, distortedLetters['M'])"
   ]
  },
  {
   "cell_type": "code",
   "execution_count": null,
   "metadata": {},
   "outputs": [],
   "source": [
    "displayHopfieldState(p_recall)"
   ]
  },
  {
   "cell_type": "code",
   "execution_count": null,
   "metadata": {},
   "outputs": [],
   "source": [
    "Nsteps = 5\n",
    "fig,axs = plt.subplots(Nsteps,6, figsize=(15,15))\n",
    "for istep in range(Nsteps):\n",
    "    for ax, (key, dpattern) in zip(axs[istep,:],distortedLetters.items()):\n",
    "        p_recall = recall(HopfieldWeights, dpattern, steps=istep)\n",
    "        displayHopfieldState(p_recall,ax)\n",
    "        if istep==0:\n",
    "            ax.set_title(f'Distorted {key} (E={(energyHopfieldState(HopfieldWeights, p_recall))})')\n",
    "        else:\n",
    "            ax.set_title(f'Step {istep} (E={(energyHopfieldState(HopfieldWeights, p_recall))})')"
   ]
  },
  {
   "cell_type": "code",
   "execution_count": null,
   "metadata": {},
   "outputs": [],
   "source": []
  }
 ],
 "metadata": {
  "@webio": {
   "lastCommId": null,
   "lastKernelId": null
  },
  "kernelspec": {
   "display_name": "Python 3 (ipykernel)",
   "language": "python",
   "name": "python3"
  },
  "language_info": {
   "codemirror_mode": {
    "name": "ipython",
    "version": 3
   },
   "file_extension": ".py",
   "mimetype": "text/x-python",
   "name": "python",
   "nbconvert_exporter": "python",
   "pygments_lexer": "ipython3",
   "version": "3.9.17"
  }
 },
 "nbformat": 4,
 "nbformat_minor": 4
}
