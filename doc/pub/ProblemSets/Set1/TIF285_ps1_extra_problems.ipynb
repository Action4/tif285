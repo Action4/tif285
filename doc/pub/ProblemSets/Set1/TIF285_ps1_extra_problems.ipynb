{
 "cells": [
  {
   "cell_type": "markdown",
   "metadata": {},
   "source": [
    "## Instructions\n",
    "- See deadline on the course web page\n",
    "- This problem set is solved individually. See examination rules on the course web page and the explanation of the examination procedure below.\n",
    "- The two notebooks for each problem set contain a number of basic and extra problems; you can choose which and how many to work on. The extra problems are usually more challenging.\n",
    "- Students are allowed to discuss together and help each other when solving the problems. However, every student must understand their submitted solution in the sense that they should be able to explain and discuss them with a peer or with a teacher.\n",
    "- While discussions with your peers are allowed (and even encouraged), direct plagiarism is not. Every student must reach their own understanding of submitted solutions according to the definition in the previous point.\n",
    "- The use of coding assistance from code generating artificial intelligence tools is allowed. However, every student must reach their own understanding of submitted solutions (including employed algorithms) according to the definition above.\n",
    "- Some problems include checkpoints in the form of `assert` statements. These usually check some basic functionality and you should make sure that your code passes these statements without raising an `AssertionError`. \n",
    "- Do not use other python modules than the ones included in the `environment.yml` file in the course github repo. \n",
    "\n",
    "- **Important:** The grading of problem sets requires **all** of the following actions:\n",
    "  1. Make sure to always complete **Task 0** in the header part of the notebook and that this part does not raise any `AssertionError`(s).\n",
    "  1. **Complete** the corresponding questions in Yata for every task that you have completed. This usually involves copying and pasting some code from your solution notebook and passing the code tests. You need to have a green check mark on Yata to get the corresponding points.\n",
    "  1. **Upload** your solution in the form of your edited version of this Jupyter notebook via the appropriate assignment module in Canvas (separate for basic and extra tasks). It is the code and results in your submitted notebook that is considered to be your hand-in solution.\n",
    "  1. If selected, be **available for a discussion** of your solution with one of the teachers on the Monday afternoon exercise session directly following the problem set deadline. No extra preparation is needed for these discussions apart from familiarity with your own solution. A list of randomly selected students will be published on the course web page around Monday noon. During the afternoon session that same day, students will be called in the numbered order until the end of the list (or the end of the exercise session). You must inform the responsible teacher as soon as possible following the publication of the student list if you can not be physically present at the exercise session (in which case we will have the discussion on zoom). An oral examination (on all aspects of the course) will be arranged during the exam week for students that do not show up for their discussion slot, or that fail to demonstrate familiarity with their hand-in solutions."
   ]
  },
  {
   "cell_type": "markdown",
   "metadata": {},
   "source": [
    "- Before you turn this problem in, make sure everything runs as expected. First, **restart the kernel** (in the menubar, select Kernel$\\rightarrow$Restart) and then **run all cells** (in the menubar, select Cell$\\rightarrow$Run All).\n",
    "\n",
    "- Make sure that the **run time is smaller than a few minutes**. If needed you might have to reduce some computational tasks; e.g. by decreasing the number of grid points or sampling steps. Please ask the supervisors if you are uncertain about the run time. \n",
    "\n",
    "- Your solutions are usually expected where it says `YOUR CODE HERE` or <font color=\"red\">\"PLEASE WRITE YOUR ANSWER HERE\"</font>."
   ]
  },
  {
   "cell_type": "markdown",
   "metadata": {},
   "source": [
    "### Task 0 \n",
    "#### (0 points)"
   ]
  },
  {
   "cell_type": "markdown",
   "metadata": {
    "deletable": false,
    "editable": false,
    "nbgrader": {
     "cell_type": "markdown",
     "checksum": "251105c400969a6d24e9f7ec4883888e",
     "grade": false,
     "grade_id": "cell-6f99a2583f9fb27d",
     "locked": true,
     "schema_version": 3,
     "solution": false,
     "task": false
    }
   },
   "source": [
    "By changing the below boolean variable `student_self_assessment` to `True` you attest that:\n",
    "- All handed in solutions were produced by yourself in the sense that you understand your solutions and should be able to explain and discuss them with a peer or with a teacher.\n"
   ]
  },
  {
   "cell_type": "code",
   "execution_count": null,
   "metadata": {
    "deletable": false,
    "nbgrader": {
     "cell_type": "code",
     "checksum": "64a7020fd0e62e5b51ef4470ae1c797f",
     "grade": false,
     "grade_id": "student-self-assessment",
     "locked": false,
     "schema_version": 3,
     "solution": true,
     "task": false
    }
   },
   "outputs": [],
   "source": [
    "student_self_assessment = False\n",
    "\n",
    "# \n",
    "# YOUR CODE HERE\n",
    "# "
   ]
  },
  {
   "cell_type": "code",
   "execution_count": null,
   "metadata": {
    "deletable": false,
    "editable": false,
    "nbgrader": {
     "cell_type": "code",
     "checksum": "d873afed15d2d3de2ef460d53fccf90f",
     "grade": true,
     "grade_id": "cell-795bedd2908899aa",
     "locked": true,
     "points": 0,
     "schema_version": 3,
     "solution": false,
     "task": false
    }
   },
   "outputs": [],
   "source": [
    "assert student_self_assessment == True, 'You must assert the individual solution statements.'"
   ]
  },
  {
   "cell_type": "markdown",
   "metadata": {},
   "source": [
    "# Problem Set 1\n",
    "## Extra problems\n",
    "### Learning from data [TIF285], Chalmers, Fall 2023\n",
    "\n",
    "Last revised: 20-Aug-2023 by Christian Forssén [christian.forssen@chalmers.se]"
   ]
  },
  {
   "cell_type": "code",
   "execution_count": null,
   "metadata": {
    "deletable": false,
    "nbgrader": {
     "cell_type": "code",
     "checksum": "61603b6b71f80b2617bf90aaffea2bf6",
     "grade": false,
     "grade_id": "cell-30c16b2db381306f",
     "locked": false,
     "schema_version": 3,
     "solution": true,
     "task": false
    }
   },
   "outputs": [],
   "source": [
    "# import modules\n",
    "\n",
    "# \n",
    "# YOUR CODE HERE\n",
    "# "
   ]
  },
  {
   "cell_type": "markdown",
   "metadata": {},
   "source": [
    "## Problem 5 (extra)\n",
    "### (3 points; manually graded)"
   ]
  },
  {
   "cell_type": "markdown",
   "metadata": {},
   "source": [
    "#### Reload the third dataset from Problem 3"
   ]
  },
  {
   "cell_type": "code",
   "execution_count": null,
   "metadata": {
    "deletable": false,
    "editable": false,
    "nbgrader": {
     "cell_type": "code",
     "checksum": "69e0ec35992f0834fb367a79cd6ec321",
     "grade": false,
     "grade_id": "cell-9bbcc6d8d2e07690",
     "locked": true,
     "schema_version": 3,
     "solution": false,
     "task": false
    }
   },
   "outputs": [],
   "source": [
    "datafile = f'DataFiles/PS1_Prob3_dataset3.txt'\n",
    "X, y = np.loadtxt(datafile, unpack=True)\n",
    "m = len(X)\n",
    "X = X.reshape(m,1); y = y.reshape(m,1)"
   ]
  },
  {
   "cell_type": "markdown",
   "metadata": {
    "deletable": false,
    "editable": false,
    "nbgrader": {
     "cell_type": "markdown",
     "checksum": "0863bc5e0649091e0f07c618d5ba415e",
     "grade": false,
     "grade_id": "cell-10862146b5aeebc1",
     "locked": true,
     "points": 3,
     "schema_version": 3,
     "solution": false,
     "task": true
    }
   },
   "source": [
    "#### Validation curves\n",
    "Create a validation curve for the polynomial model (for different degrees) where you plot the training score and the validation score as a function of the model complexity. \n",
    "- The model complexity is simply the degree of the polynomial.\n",
    "- Make sure to print (e.g. in the axis label) what \"score\" that is shown (remember that different measures are being used in the literature).\n",
    "- For the computation of training and validation scores you should use cross-validation which is more stable than the use of a single, random pair of training and validation sets.\n",
    "\n",
    "Question to ponder:\n",
    "- From this curve: Which order polynomial do you think was used when generating the data?\n",
    "\n",
    "*Hint:* `scikit-learn` has a function `validation_curve` that might be useful. It is instructive to implement the calculation of learning curves yourself, but it is not required for this task."
   ]
  },
  {
   "cell_type": "code",
   "execution_count": null,
   "metadata": {
    "deletable": false,
    "nbgrader": {
     "cell_type": "code",
     "checksum": "5b7143d6e8baebac5a8c177116fabbfe",
     "grade": false,
     "grade_id": "cell-4c0faa3d3a1db40e",
     "locked": false,
     "schema_version": 3,
     "solution": true,
     "task": false
    }
   },
   "outputs": [],
   "source": [
    "# \n",
    "# YOUR CODE HERE\n",
    "# "
   ]
  },
  {
   "cell_type": "markdown",
   "metadata": {},
   "source": [
    "## Problem 6 (extra)\n",
    "### (3 points; manually graded)"
   ]
  },
  {
   "cell_type": "markdown",
   "metadata": {},
   "source": [
    "### Gradient descent methods"
   ]
  },
  {
   "cell_type": "markdown",
   "metadata": {},
   "source": [
    "#### Generate noisy data with a quadratic feature\n",
    "This is the same data as in Problem 2."
   ]
  },
  {
   "cell_type": "code",
   "execution_count": null,
   "metadata": {
    "deletable": false,
    "editable": false,
    "nbgrader": {
     "cell_type": "code",
     "checksum": "11ea7d7ce7df7d4ead07c95cddf0219f",
     "grade": false,
     "grade_id": "cell-b8c83bd1b3a4a7e0",
     "locked": true,
     "schema_version": 3,
     "solution": false,
     "task": false
    }
   },
   "outputs": [],
   "source": [
    "# Generate noisy data with a quadratic feature\n",
    "# use the following code:\n",
    "np.random.seed(42)\n",
    "\n",
    "# X are picked uniform random [0,2]\n",
    "X = 2 * np.random.rand(100, 1)\n",
    "# Linear relation to the predicted value, but with Gaussian noise (mean=0, standard deviation=0.2)\n",
    "theta_true = [0.25, 1, 0.75]\n",
    "noise_std = 0.2\n",
    "y = theta_true[2] * X**2 + theta_true[1] * X + theta_true[0] \\\n",
    "+  np.random.normal(loc=0.0, scale=noise_std, size=(m,1))"
   ]
  },
  {
   "cell_type": "markdown",
   "metadata": {},
   "source": [
    "#### (a) Batch and stochastic gradient descent\n",
    "Implement both batch and stochastic gradient descent and use these methods to find the best fit parameters of a quadratic model. Make sure that you also save the convergence path, i.e., how the parameters change as a function of iteration number. Concerning batch gradient descent you can use the methods that you implemented in Problem 2 with relevant modifications.\n",
    "- You might want to tune the learning hyperparameter $\\eta$.\n",
    "- Do 50 epochs for the SGD (each epoch corresponding to using all instances of data once).\n",
    "- You can start from $\\theta=(0,0,0)$.\n",
    "- Compare with the solution from Problem 2."
   ]
  },
  {
   "cell_type": "code",
   "execution_count": null,
   "metadata": {
    "deletable": false,
    "nbgrader": {
     "cell_type": "code",
     "checksum": "2b85105dadfb07f823fc99b3a9a026a9",
     "grade": false,
     "grade_id": "bgd",
     "locked": false,
     "schema_version": 3,
     "solution": true,
     "task": false
    }
   },
   "outputs": [],
   "source": [
    "# Implement BGD and use it to find the best-fit parameters\n",
    "#\n",
    "# At the end, the following array should contain the \n",
    "# best-fit parameters: \n",
    "# theta_0 (constant term), theta_1 (linear), theta_2 (quadratic)\n",
    "theta_bgd = np.array([0., 0., 0.]) # Note the order\n",
    "\n",
    "# \n",
    "# YOUR CODE HERE\n",
    "# "
   ]
  },
  {
   "cell_type": "code",
   "execution_count": null,
   "metadata": {
    "deletable": false,
    "nbgrader": {
     "cell_type": "code",
     "checksum": "73ad5295fd60570971e6e54eed2ead47",
     "grade": false,
     "grade_id": "sgd",
     "locked": false,
     "schema_version": 3,
     "solution": true,
     "task": false
    }
   },
   "outputs": [],
   "source": [
    "# Implement SGD and use it to find the best-fit parameters\n",
    "#\n",
    "# At the end, the following array should contain the \n",
    "# best-fit parameters: \n",
    "# theta_0 (constant term), theta_1 (linear), theta_2 (quadratic)\n",
    "theta_sgd = np.array([0., 0., 0.]) # Note the order\n",
    "\n",
    "# \n",
    "# YOUR CODE HERE\n",
    "# "
   ]
  },
  {
   "cell_type": "code",
   "execution_count": null,
   "metadata": {
    "deletable": false,
    "editable": false,
    "nbgrader": {
     "cell_type": "code",
     "checksum": "950a54ffe608fec31680b65d33259559",
     "grade": true,
     "grade_id": "correct_bgd_sgd",
     "locked": true,
     "points": 1,
     "schema_version": 3,
     "solution": false,
     "task": false
    }
   },
   "outputs": [],
   "source": [
    "# TESTS TO CHECK YOUR CODE\n",
    "# ---\n",
    "assert theta_bgd.shape ==(3,)\n",
    "assert not (theta_bgd==0).any()\n",
    "assert theta_sgd.shape ==(3,)\n",
    "assert not (theta_sgd==0).any()\n",
    "\n",
    "print('Error printouts (if any):')\n",
    "bgd_rel_residual = \\\n",
    "    (theta_bgd - np.array([0.37086534, 0.70324876, 0.87805028])) / \\\n",
    "     theta_bgd\n",
    "assert (np.abs(bgd_rel_residual) < 2e-1).all(),\\\n",
    "    print('bgd_rel_residual = \\n', bgd_rel_residual)\n",
    "\n",
    "sgd_rel_residual = \\\n",
    "    (theta_sgd - np.array([0.36208325, 0.70543074, 0.86862094])) / \\\n",
    "     theta_sgd\n",
    "assert (np.abs(sgd_rel_residual) < 1e-1).all(),\\\n",
    "    print('sgd_rel_residual = \\n', sgd_rel_residual)"
   ]
  },
  {
   "cell_type": "markdown",
   "metadata": {},
   "source": [
    "#### (b) Mini-batch gradient descent\n",
    "Implement mini-batch gradient descent and use this method to find the best fit parameters. Details:\n",
    "- use a mini-batch size of 20%\n",
    "- perform 50 epochs \n",
    "- hint: the `numpy.random.permutation` function might be useful for creating the mini-batches. \n",
    "- Compare with the solutions from BGD and SGD."
   ]
  },
  {
   "cell_type": "code",
   "execution_count": null,
   "metadata": {
    "deletable": false,
    "nbgrader": {
     "cell_type": "code",
     "checksum": "4667146537d278884f9a92df74d7fd65",
     "grade": false,
     "grade_id": "mbgd",
     "locked": false,
     "schema_version": 3,
     "solution": true,
     "task": false
    }
   },
   "outputs": [],
   "source": [
    "# Implement MBGD and use it to find the best-fit parameters\n",
    "#\n",
    "# At the end, the following array should contain the \n",
    "# best-fit parameters: \n",
    "# theta_0 (constant term), theta_1 (linear), theta_2 (quadratic)\n",
    "theta_mbgd = np.array([0., 0., 0.]) # Note the order\n",
    "\n",
    "# \n",
    "# YOUR CODE HERE\n",
    "# "
   ]
  },
  {
   "cell_type": "code",
   "execution_count": null,
   "metadata": {
    "deletable": false,
    "editable": false,
    "nbgrader": {
     "cell_type": "code",
     "checksum": "33ecec0cadb939f54e05b0833cc61edd",
     "grade": true,
     "grade_id": "correct_mbgd",
     "locked": true,
     "points": 1,
     "schema_version": 3,
     "solution": false,
     "task": false
    }
   },
   "outputs": [],
   "source": [
    "# TESTS TO CHECK YOUR CODE\n",
    "# ---\n",
    "assert theta_mbgd.shape ==(3,)\n",
    "assert not (theta_mbgd==0).any()\n",
    "\n",
    "print('Test error printouts (if any):')\n",
    "mbgd_rel_residual = \\\n",
    "    (theta_mbgd - np.array([0.39386575, 0.7356066 , 0.89338186])) / \\\n",
    "     theta_mbgd\n",
    "assert (np.abs(mbgd_rel_residual) < 1e-1).all(),\\\n",
    "    print('mbgd_rel_residual = \\n', mbgd_rel_residual)"
   ]
  },
  {
   "cell_type": "markdown",
   "metadata": {
    "deletable": false,
    "editable": false,
    "nbgrader": {
     "cell_type": "markdown",
     "checksum": "b3c145c55263fdc4ca46b64105070db0",
     "grade": false,
     "grade_id": "gd_convergence",
     "locked": true,
     "points": 1,
     "schema_version": 3,
     "solution": false,
     "task": true
    }
   },
   "source": [
    "#### (c) Convergence\n",
    "Compare the convergence pattern for the BGD, SGD and MGD, i.e. plot the path towards the optimal set of parameters. \n",
    "- You can start from $\\theta=(0,0,0)$ with all three GD algorithms.\n",
    "- Note that the path is in 3D (since there are three parameters in our quadratic model). You should plot the three different 2D projections of the path.\n",
    "- Indicate also the true optimum (as found by solving the normal equation)."
   ]
  },
  {
   "cell_type": "code",
   "execution_count": null,
   "metadata": {
    "deletable": false,
    "nbgrader": {
     "cell_type": "code",
     "checksum": "0e0efe08e3dcb155147df8c8fe84fede",
     "grade": false,
     "grade_id": "cell-a0ed6a6e81042c13",
     "locked": false,
     "schema_version": 3,
     "solution": true,
     "task": false
    }
   },
   "outputs": [],
   "source": [
    "# \n",
    "# YOUR CODE HERE\n",
    "# "
   ]
  }
 ],
 "metadata": {
  "@webio": {
   "lastCommId": null,
   "lastKernelId": null
  },
  "kernelspec": {
   "display_name": "Python 3 (ipykernel)",
   "language": "python",
   "name": "python3"
  },
  "language_info": {
   "codemirror_mode": {
    "name": "ipython",
    "version": 3
   },
   "file_extension": ".py",
   "mimetype": "text/x-python",
   "name": "python",
   "nbconvert_exporter": "python",
   "pygments_lexer": "ipython3",
   "version": "3.9.0"
  },
  "nav_menu": {},
  "toc": {
   "navigate_menu": true,
   "number_sections": true,
   "sideBar": true,
   "threshold": 6,
   "toc_cell": false,
   "toc_section_display": "block",
   "toc_window_display": false
  }
 },
 "nbformat": 4,
 "nbformat_minor": 4
}
