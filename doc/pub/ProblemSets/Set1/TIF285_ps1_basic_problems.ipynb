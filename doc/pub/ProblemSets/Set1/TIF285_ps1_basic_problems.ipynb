{
 "cells": [
  {
   "cell_type": "markdown",
   "metadata": {},
   "source": [
    "## Instructions\n",
    "- See deadline on the course web page\n",
    "- This problem set is solved individually. See examination rules on the course web page and the explanation of the examination procedure below.\n",
    "- The two notebooks for each problem set contain a number of basic and extra problems; you can choose which and how many to work on. The extra problems are usually more challenging.\n",
    "- Students are allowed to discuss together and help each other when solving the problems. However, every student must understand their submitted solution in the sense that they should be able to explain and discuss them with a peer or with a teacher.\n",
    "- While discussions with your peers are allowed (and even encouraged), direct plagiarism is not. Every student must reach their own understanding of submitted solutions according to the definition in the previous point.\n",
    "- The use of coding assistance from code generating artificial intelligence tools is allowed. However, every student must reach their own understanding of submitted solutions (including employed algorithms) according to the definition above.\n",
    "- Some problems include checkpoints in the form of `assert` statements. These usually check some basic functionality and you should make sure that your code passes these statements without raising an `AssertionError`. \n",
    "- Do not use other python modules than the ones included in the `environment.yml` file in the course github repo. \n",
    "\n",
    "- **Important:** The grading of problem sets requires **all** of the following actions:\n",
    "  1. Make sure to always complete **Task 0** in the header part of the notebook and that this part does not raise any `AssertionError`(s).\n",
    "  1. **Complete** the corresponding questions in Yata for every task that you have completed. This usually involves copying and pasting some code from your solution notebook and passing the code tests. You need to have a green check mark on Yata to get the corresponding points.\n",
    "  1. **Upload** your solution in the form of your edited version of this Jupyter notebook via the appropriate assignment module in Canvas (separate for basic and extra tasks). It is the code and results in your submitted notebook that is considered to be your hand-in solution.\n",
    "  1. If selected, be **available for a discussion** of your solution with one of the teachers on the Monday afternoon exercise session directly following the problem set deadline. No extra preparation is needed for these discussions apart from familiarity with your own solution. A list of randomly selected students will be published on the course web page around Monday noon. During the afternoon session that same day, students will be called in the numbered order until the end of the list (or the end of the exercise session). You must inform the responsible teacher as soon as possible following the publication of the student list if you can not be physically present at the exercise session (in which case we will have the discussion on zoom). An oral examination (on all aspects of the course) will be arranged during the exam week for students that do not show up for their discussion slot, or that fail to demonstrate familiarity with their hand-in solutions."
   ]
  },
  {
   "cell_type": "markdown",
   "metadata": {},
   "source": [
    "- Before you turn this problem in, make sure everything runs as expected. First, **restart the kernel** (in the menubar, select Kernel$\\rightarrow$Restart) and then **run all cells** (in the menubar, select Cell$\\rightarrow$Run All).\n",
    "\n",
    "- Make sure that the **run time is smaller than a few minutes**. If needed you might have to reduce some computational tasks; e.g. by decreasing the number of grid points or sampling steps. Please ask the supervisors if you are uncertain about the run time. \n",
    "\n",
    "- Your solutions are usually expected where it says `YOUR CODE HERE` or <font color=\"red\">\"PLEASE WRITE YOUR ANSWER HERE\"</font>."
   ]
  },
  {
   "cell_type": "markdown",
   "metadata": {},
   "source": [
    "### Task 0 \n",
    "#### (0 points)"
   ]
  },
  {
   "cell_type": "markdown",
   "metadata": {
    "deletable": false,
    "editable": false,
    "nbgrader": {
     "cell_type": "markdown",
     "checksum": "251105c400969a6d24e9f7ec4883888e",
     "grade": false,
     "grade_id": "cell-6f99a2583f9fb27d",
     "locked": true,
     "schema_version": 3,
     "solution": false,
     "task": false
    }
   },
   "source": [
    "By changing the below boolean variable `student_self_assessment` to `True` you attest that:\n",
    "- All handed in solutions were produced by yourself in the sense that you understand your solutions and should be able to explain and discuss them with a peer or with a teacher.\n"
   ]
  },
  {
   "cell_type": "code",
   "execution_count": 1,
   "metadata": {
    "deletable": false,
    "nbgrader": {
     "cell_type": "code",
     "checksum": "64a7020fd0e62e5b51ef4470ae1c797f",
     "grade": false,
     "grade_id": "student-self-assessment",
     "locked": false,
     "schema_version": 3,
     "solution": true,
     "task": false
    }
   },
   "outputs": [],
   "source": [
    "student_self_assessment = False\n",
    "\n",
    "# \n",
    "# YOUR CODE HERE\n",
    "# \n",
    "student_self_assessment = True"
   ]
  },
  {
   "cell_type": "code",
   "execution_count": 2,
   "metadata": {
    "deletable": false,
    "editable": false,
    "nbgrader": {
     "cell_type": "code",
     "checksum": "d873afed15d2d3de2ef460d53fccf90f",
     "grade": true,
     "grade_id": "cell-795bedd2908899aa",
     "locked": true,
     "points": 0,
     "schema_version": 3,
     "solution": false,
     "task": false
    }
   },
   "outputs": [],
   "source": [
    "assert student_self_assessment == True, 'You must assert the individual solution statements.'"
   ]
  },
  {
   "cell_type": "markdown",
   "metadata": {},
   "source": [
    "# Problem Set 1 (Basic problems)\n",
    "\n",
    "**Learning from data [TIF285], Chalmers, Fall 2025**\n",
    "\n",
    "Last revised: 30-Aug-2025 by Christian Forssen [christian.forssen@chalmers.se]"
   ]
  },
  {
   "cell_type": "markdown",
   "metadata": {},
   "source": [
    "## Problem 1 (2 points)"
   ]
  },
  {
   "cell_type": "markdown",
   "metadata": {},
   "source": [
    "### Installations\n",
    "Perform the installations and preparations that are described in the Getting Started instructions. At the end you should have:\n",
    "\n",
    "1. downloaded the current version of the course material from the github repository or from the course web page;\n",
    "2. a running python installation that includes the modules listed in the environment.yml file (e.g. numpy, matplotlib, pandas, emcee, scikit-learn, ...);\n",
    "3. been able to open and run the Jupyter Notebooks with the first week exercises.\n",
    "Ask the computer lab supervisors for assistance if needed."
   ]
  },
  {
   "cell_type": "code",
   "execution_count": 3,
   "metadata": {
    "deletable": false,
    "nbgrader": {
     "cell_type": "code",
     "checksum": "cffc7d4975be42d36ea3279085c8bcee",
     "grade": false,
     "grade_id": "import",
     "locked": false,
     "schema_version": 3,
     "solution": true,
     "task": false
    }
   },
   "outputs": [],
   "source": [
    "# Modules needed for tests and file system operations\n",
    "import sys\n",
    "\n",
    "import os\n",
    "\n",
    "# Where to save the figures and data files\n",
    "DATA_ID = \"DataFiles/\"\n",
    "if not os.path.exists(DATA_ID):\n",
    "    os.makedirs(DATA_ID)\n",
    "\n",
    "# Make sure that you are running python with version >= 3.x\n",
    "#\n",
    "# Import the following python modules with\n",
    "# the specified abreviations:\n",
    "# ---\n",
    "# numpy as np\n",
    "# scipy as scipy\n",
    "# scipy.stats as stats\n",
    "# pandas as pd\n",
    "# matplotlib.pyplot as plt\n",
    "# sklearn as skl\n",
    "# emcee as emcee\n",
    "\n",
    "\n",
    "# \n",
    "# YOUR CODE HERE\n",
    "#\n",
    "import numpy as np\n",
    "import scipy as scipy\n",
    "import scipy.stats as stats\n",
    "import pandas as pd\n",
    "import matplotlib.pyplot as plt\n",
    "import sklearn as skl\n",
    "import emcee as emcee"
   ]
  },
  {
   "cell_type": "code",
   "execution_count": 4,
   "metadata": {
    "deletable": false,
    "editable": false,
    "nbgrader": {
     "cell_type": "code",
     "checksum": "c6a82073d8b8c74026808c8bacccad6d",
     "grade": true,
     "grade_id": "correct_import",
     "locked": true,
     "points": 1,
     "schema_version": 3,
     "solution": false,
     "task": false
    },
    "slideshow": {
     "slide_type": ""
    },
    "tags": [
     "hide_code"
    ]
   },
   "outputs": [],
   "source": [
    "# TESTS TO CHECK YOUR CODE\n",
    "# ---\n",
    "assert sys.version_info.major>=3, \\\n",
    "    'You are running Python version'+\\\n",
    "    f'{sys.version_info.major}.{sys.version_info.minor}'\n",
    "\n",
    "modules = [('numpy','np'), ('scipy', 'scipy'), \\\n",
    "           ('pandas', 'pd'), ('matplotlib.pyplot', 'plt'), \\\n",
    "           ('sklearn', 'skl'), ('emcee', 'emcee')]\n",
    "for (_module, _module_abbrev) in modules:\n",
    "    assert _module in sys.modules and _module_abbrev in dir(),\\\n",
    "        f'Module {_module} not loaded properly.'"
   ]
  },
  {
   "cell_type": "markdown",
   "metadata": {},
   "source": [
    "### Random samples\n",
    "In this course there are $N$ students and three problem sets.\n",
    "The random selection of students for problem set discussions is performed by drawing $N$ samples of three random variables $(X_1, X_2, X_3)$. These are arranged in an array of shape (N,3) as follows \n",
    "$$\n",
    "\\left(\n",
    "\\begin{array}{ccc}\n",
    "x_1(1) & x_2(1) & x_3(1) \\\\\n",
    "x_1(2) & x_2(2) & x_3(2) \\\\\n",
    "\\vdots & \\vdots & \\vdots \\\\\n",
    "x_1(N) & x_2(N) & x_3(N)\n",
    "\\end{array}\n",
    "\\right).\n",
    "$$\n",
    "The students with the lowest values of the respective random variable will then be invited for discussions with a teaching assistant. E.g., for problem set 1 there will be an ordered list of students $(k, l, m, \\ldots)$, where $x_1(k) < x_1(l) < x_1(m) < \\ldots$.\n",
    "\n",
    "It is considered fair that all students have the same probability to draw at least one small number, but it should be less likely to draw two small numbers. This can be achieved by making the random variables dependent, more specifically by making the covariance negative (anticorrelated). Here we use a correlated, multivariate Gaussian\n",
    "$$\n",
    "(X_1, X_2, X_3) \\sim \\mathcal{N}\\left( \\boldsymbol{\\mu}, \\boldsymbol{\\Sigma} \\right),\n",
    "$$\n",
    "with mean and covariance\n",
    "$$\n",
    "\\boldsymbol{\\mu} = (0,0,0),\\quad\n",
    "\\boldsymbol{\\Sigma} = \\left(\n",
    "\\begin{array}{ccc}\n",
    "1 & -0.49 & -0.49 \\\\\n",
    "-0.49 & 1 & -0.49 \\\\\n",
    "-0.49 & -0.49 & 1\n",
    "\\end{array}\n",
    "\\right),\n",
    "$$ \n",
    "which means that every univariate, marginal distribution will be a standard normal ($\\mu=0, \\sigma^2=1$).\n",
    "\n",
    "Take a minute to consider the reason for making the random variables anticorrelated (it is instructive to visualize the multivariate distribution) and the fact that the correlation factor cannot be more negative than -0.5."
   ]
  },
  {
   "cell_type": "markdown",
   "metadata": {},
   "source": [
    "**Task (see also Yata):** Consider a class with 6 students. Use the method `multivariate_normal` from `scipy.stats` and generate an array of shape (6,3) with samples from the distribution defined in Problem 1. Print the result. \n",
    "\n",
    "*Important*: Use the `numpy.random.default_rng` method with the seed=2025 to initiate a random number generator instance. This instance should then be used as a `random_state` when generating the samples. See the example in the Statistics chapter of the lecture notes. "
   ]
  },
  {
   "cell_type": "code",
   "execution_count": 5,
   "metadata": {
    "deletable": false,
    "nbgrader": {
     "cell_type": "code",
     "checksum": "0c013c5f1717d83336961f1ad005a36c",
     "grade": false,
     "grade_id": "P1array",
     "locked": false,
     "schema_version": 3,
     "solution": true,
     "task": false
    },
    "slideshow": {
     "slide_type": ""
    },
    "tags": []
   },
   "outputs": [
    {
     "name": "stdout",
     "output_type": "stream",
     "text": [
      "[[ 0.01809379  1.97420241 -1.8602763 ]\n",
      " [ 2.37121953 -0.30470621 -2.25399517]\n",
      " [-0.32340489  0.73148303 -0.57997864]\n",
      " [ 0.14364322 -0.40464407  0.09963551]\n",
      " [-0.46216035 -0.01543614  0.88214955]\n",
      " [ 0.43533118 -0.23852316 -0.91598085]]\n"
     ]
    }
   ],
   "source": [
    "# \n",
    "# YOUR CODE HERE\n",
    "#\n",
    "\n",
    "#Random number generator\n",
    "seed = 2025\n",
    "rng = np.random.default_rng(seed)\n",
    "\n",
    "#Distribution\n",
    "mean = np.array([0,0,0])\n",
    "cov = np.array([[1, -0.49, -0.49], [-0.49, 1, -0.49], [-0.49, -0.49, 1]])\n",
    "dis = stats.multivariate_normal(mean, cov)\n",
    "\n",
    "numbers = dis.rvs(size = 6, random_state = rng)\n",
    "print(numbers)"
   ]
  },
  {
   "cell_type": "markdown",
   "metadata": {},
   "source": [
    "**Task (see also Yata):** Create a `Pandas.DataFrame` with the sample array from the previous task. The columns should be labeled ['X1', 'X2', 'X3'] while the row indices should be ['Student 1', 'Student 2', 'Student 3', ...]. Print the DataFrame (in the notebook you can try the more fancy option `display`, while you should use `print` on Yata).\n",
    "\n",
    "Assume that only the first two students from each ordered list are selected. Which student(s) will not be selected for any of the problem sets."
   ]
  },
  {
   "cell_type": "code",
   "execution_count": 6,
   "metadata": {
    "deletable": false,
    "nbgrader": {
     "cell_type": "code",
     "checksum": "7b566ad5dce8ad7a797ac9f7dc9130a2",
     "grade": false,
     "grade_id": "P1df",
     "locked": false,
     "schema_version": 3,
     "solution": true,
     "task": false
    }
   },
   "outputs": [
    {
     "data": {
      "text/html": [
       "<div>\n",
       "<style scoped>\n",
       "    .dataframe tbody tr th:only-of-type {\n",
       "        vertical-align: middle;\n",
       "    }\n",
       "\n",
       "    .dataframe tbody tr th {\n",
       "        vertical-align: top;\n",
       "    }\n",
       "\n",
       "    .dataframe thead th {\n",
       "        text-align: right;\n",
       "    }\n",
       "</style>\n",
       "<table border=\"1\" class=\"dataframe\">\n",
       "  <thead>\n",
       "    <tr style=\"text-align: right;\">\n",
       "      <th></th>\n",
       "      <th>X1</th>\n",
       "      <th>X2</th>\n",
       "      <th>X3</th>\n",
       "    </tr>\n",
       "  </thead>\n",
       "  <tbody>\n",
       "    <tr>\n",
       "      <th>Student 1</th>\n",
       "      <td>0.018094</td>\n",
       "      <td>1.974202</td>\n",
       "      <td>-1.860276</td>\n",
       "    </tr>\n",
       "    <tr>\n",
       "      <th>Student 2</th>\n",
       "      <td>2.371220</td>\n",
       "      <td>-0.304706</td>\n",
       "      <td>-2.253995</td>\n",
       "    </tr>\n",
       "    <tr>\n",
       "      <th>Student 3</th>\n",
       "      <td>-0.323405</td>\n",
       "      <td>0.731483</td>\n",
       "      <td>-0.579979</td>\n",
       "    </tr>\n",
       "    <tr>\n",
       "      <th>Student 4</th>\n",
       "      <td>0.143643</td>\n",
       "      <td>-0.404644</td>\n",
       "      <td>0.099636</td>\n",
       "    </tr>\n",
       "    <tr>\n",
       "      <th>Student 5</th>\n",
       "      <td>-0.462160</td>\n",
       "      <td>-0.015436</td>\n",
       "      <td>0.882150</td>\n",
       "    </tr>\n",
       "    <tr>\n",
       "      <th>Student 6</th>\n",
       "      <td>0.435331</td>\n",
       "      <td>-0.238523</td>\n",
       "      <td>-0.915981</td>\n",
       "    </tr>\n",
       "  </tbody>\n",
       "</table>\n",
       "</div>"
      ],
      "text/plain": [
       "                 X1        X2        X3\n",
       "Student 1  0.018094  1.974202 -1.860276\n",
       "Student 2  2.371220 -0.304706 -2.253995\n",
       "Student 3 -0.323405  0.731483 -0.579979\n",
       "Student 4  0.143643 -0.404644  0.099636\n",
       "Student 5 -0.462160 -0.015436  0.882150\n",
       "Student 6  0.435331 -0.238523 -0.915981"
      ]
     },
     "execution_count": 6,
     "metadata": {},
     "output_type": "execute_result"
    }
   ],
   "source": [
    "# \n",
    "# YOUR CODE HERE\n",
    "# \n",
    "#Set names of columns and roxs\n",
    "cols = ['X1', 'X2', 'X3']\n",
    "row = [f'Student {x}' for x in range(1, 7)]\n",
    "pd.DataFrame(data=numbers, columns=cols, index = row)"
   ]
  },
  {
   "cell_type": "markdown",
   "metadata": {},
   "source": [
    "Only student 6 is not selected for any of the problem sets. "
   ]
  },
  {
   "cell_type": "markdown",
   "metadata": {},
   "source": [
    "## Problem 2 (3 points)"
   ]
  },
  {
   "cell_type": "markdown",
   "metadata": {},
   "source": [
    "**Non-linear minimization**\n",
    "\n",
    "In this problem you should find the parameter $\\theta$ that minimizes the function\n",
    "$$\n",
    "f(\\theta) = \\sin(6 \\theta) + 0.2 \\theta^2 - 0.5 \\theta\n",
    "$$\n",
    "on the interval $\\theta \\in [-5,5]$.\n",
    "\n",
    "The aim is to find the position of the minimum $\\theta^*$ with three significant digits (i.e. to within $\\pm 0.005$) under the constraint that we would like to make as few function evaluations as possible."
   ]
  },
  {
   "cell_type": "markdown",
   "metadata": {},
   "source": [
    "### (a) Grid search\n",
    "\n",
    "**Task (see also Yata)**\n",
    "Plot the true function and indicate the position of the minimum\n",
    "What is the position of the *global* minimum (with at least three significant digits)?"
   ]
  },
  {
   "cell_type": "code",
   "execution_count": 7,
   "metadata": {
    "deletable": false,
    "nbgrader": {
     "cell_type": "code",
     "checksum": "4712ffaeda8af786518cc69cc8ce0655",
     "grade": false,
     "grade_id": "P2gridsearch",
     "locked": false,
     "schema_version": 3,
     "solution": true,
     "task": false
    },
    "slideshow": {
     "slide_type": ""
    },
    "tags": []
   },
   "outputs": [
    {
     "name": "stdout",
     "output_type": "stream",
     "text": [
      "0.7904579045790463\n"
     ]
    },
    {
     "data": {
      "image/png": "[encoded data removed]",
      "text/plain": [
       "<Figure size 640x480 with 1 Axes>"
      ]
     },
     "metadata": {},
     "output_type": "display_data"
    }
   ],
   "source": [
    "theta_min =  -5.\n",
    "theta_max =  5.\n",
    "\n",
    "# \n",
    "# YOUR CODE HERE\n",
    "# \n",
    "\n",
    "def f(theta): \n",
    "    return np.sin(6*theta) + 0.2*theta**2 - 0.5*theta\n",
    "\n",
    "theta = np.linspace(-5., 5., 100000)\n",
    "\n",
    "\n",
    "argmini = np.argmin(f(theta))\n",
    "theta_mini = theta[argmini]\n",
    "print(theta_mini)\n",
    "\n",
    "plt.plot(theta, f(theta), 'c', label=r'$f(\\theta)$')\n",
    "plt.grid()\n",
    "plt.xlabel(r'$\\theta$')\n",
    "plt.ylabel(r'$f(\\theta)$')\n",
    "plt. plot(theta_mini, f(theta_mini), 'm', marker='*', markersize=12, label='min')\n",
    "plt.legend()\n",
    "plt.show()"
   ]
  },
  {
   "cell_type": "markdown",
   "metadata": {},
   "source": [
    "### (b) Find the minimum using `scipy.optimize.minimize` with `method='Nelder-Mead'`. \n",
    "* Choose the starting point randomly from a uniform pdf $U(-5,5)$. \n",
    "* Repeat one hundred times. **Do you always get the same minimum?**\n",
    "* More specifically, set the tolerance of the optimizer to `tol=0.01` and check for success by the criterion $|\\theta^* - \\theta^*_\\mathrm{opt}| < 0.05$, where $\\theta^*_\\mathrm{opt}$ is the result from the optimizer and $\\theta^*$ the global minimum found in the grid search .\n",
    "* Be quantitative about the average number of function evaluations that are needed per successful optimization. Compute the ratio of the total number of function evaluations number (summed over the 100 tries with different starting points) with the number of successful attempts.  \n",
    "  *Hint*: The number of function evaluations from a `scipy.optimize.minimize` result is returned in the ``OptimizeResult`` object. "
   ]
  },
  {
   "cell_type": "code",
   "execution_count": 24,
   "metadata": {
    "deletable": false,
    "nbgrader": {
     "cell_type": "code",
     "checksum": "dc19582220e787463c42518b5178adf7",
     "grade": false,
     "grade_id": "P2scipy",
     "locked": false,
     "schema_version": 3,
     "solution": true,
     "task": false
    },
    "slideshow": {
     "slide_type": ""
    },
    "tags": []
   },
   "outputs": [
    {
     "name": "stdout",
     "output_type": "stream",
     "text": [
      "Mimized theta: 0.793\n",
      "Mimized theta: 0.791\n",
      "Mimized theta: 0.79\n",
      "Mimized theta: 0.794\n",
      "Mimized theta: 0.793\n",
      "Mimized theta: 0.794\n",
      "Mimized theta: 0.789\n",
      "Mimized theta: 0.79\n",
      "Number of evaluations per successful optimization: 1.2e+01\n"
     ]
    }
   ],
   "source": [
    "# \n",
    "# YOUR CODE HERE\n",
    "# \n",
    "n_eval_tot = 0\n",
    "n_eval_pos = 0\n",
    "for i in range(100): \n",
    "    #Starting point\n",
    "    rng = np.random.default_rng()\n",
    "    theta_0 = rng.uniform(-5.0, 5.0)\n",
    "    \n",
    "    #Finding minimum\n",
    "    optimize = scipy.optimize.minimize(f, theta_0, method='Nelder-Mead', tol=0.01)\n",
    "    theta_star = optimize.x\n",
    "    n_eval = optimize.nfev\n",
    "    n_eval_tot += n_eval\n",
    "    if abs(theta_star[0] - theta_mini) < 0.05: \n",
    "        n_eval_pos += n_eval\n",
    "        print(f'Mimized theta: {theta_star[0]:.3}')\n",
    "\n",
    "#Average number of evaluations per successful\n",
    "n = n_eval_tot/n_eval_pos\n",
    "print(f'Number of evaluations per successful optimization: {n:.2}')\n",
    "        "
   ]
  },
  {
   "cell_type": "markdown",
   "metadata": {},
   "source": [
    "### (c) Implement a gradient descent method to perform this minimization."
   ]
  },
  {
   "cell_type": "code",
   "execution_count": 35,
   "metadata": {
    "deletable": false,
    "nbgrader": {
     "cell_type": "code",
     "checksum": "781329326e87ea66d8361cf4c447eb89",
     "grade": false,
     "grade_id": "P2gd",
     "locked": false,
     "schema_version": 3,
     "solution": true,
     "task": false
    },
    "slideshow": {
     "slide_type": ""
    },
    "tags": []
   },
   "outputs": [
    {
     "name": "stdout",
     "output_type": "stream",
     "text": [
      "-6.682786773560802\n",
      "-3.3514272181376183\n"
     ]
    }
   ],
   "source": [
    "# \n",
    "# YOUR CODE HERE\n",
    "# \n",
    "\n",
    "def gradientdescent(f, theta_0, N_epochs=100, learning_rate=0.01):\n",
    "    \"\"\"\n",
    "    Perform gradient descent of a function with a one-dimensional argument.\n",
    "\n",
    "    Args:\n",
    "        fp: function that takes one (real) argument and returns the (real, scalar) gradient of the function to be minimized.\n",
    "        theta0: Start point (float)\n",
    "        N_epochs: Number of gradient-descent iterations (integer, default 100).\n",
    "        learning_rate: Gradient descent learning rate (float, default 0.01)\n",
    "\n",
    "    Returns:\n",
    "        Optimum (float)\n",
    "    \"\"\"\n",
    "    \n",
    "    theta = theta_0\n",
    "    for i in range(N_epochs):\n",
    "        grad = f(theta)\n",
    "        theta -= learning_rate*grad\n",
    "    return theta\n",
    "\n",
    "rng = np.random.default_rng()\n",
    "theta_0 = rng.uniform(-5.0, 5.0)\n",
    "def f_grad(theta): \n",
    "    return 6*np.cos(6*theta) + 0.4 * theta - 0.5  \n",
    "\n",
    "print(gradientdescent(f_grad, theta_0))"
   ]
  },
  {
   "cell_type": "markdown",
   "metadata": {},
   "source": [
    "## Problem 3 (3 points)"
   ]
  },
  {
   "cell_type": "markdown",
   "metadata": {},
   "source": [
    "**Generate data**"
   ]
  },
  {
   "cell_type": "code",
   "execution_count": null,
   "metadata": {
    "deletable": false,
    "nbgrader": {
     "cell_type": "code",
     "checksum": "481b69449dbb031239ec7db3f6dde3fc",
     "grade": false,
     "grade_id": "P3generate",
     "locked": false,
     "schema_version": 3,
     "solution": true,
     "task": false
    }
   },
   "outputs": [],
   "source": [
    "# Generate noisy data with a quadratic feature\n",
    "# use the following code:\n",
    "seed = 42\n",
    "rng = np.random.default_rng(seed)\n",
    "\n",
    "m = 100 # Number of data\n",
    "\n",
    "# X are picked uniform random [0,2]\n",
    "X = rng.uniform(low=0.0, high=2.0, size=(m, 1))\n",
    "# Linear relation to the predicted value, but with Gaussian noise (mean=0, standard deviation=0.2)\n",
    "theta_true = [0.25, 1, 0.75]\n",
    "noise_std = 0.2\n",
    "y = theta_true[2] * X**2 + theta_true[1] * X + theta_true[0] +  rng.normal(loc=0.0, scale=noise_std, size=(m,1))\n",
    "\n",
    "# Below is a hidden code block that is used in the solution notebook to save the data. \n",
    "# \n",
    "# Please ignore the comment in this cell that says \"YOUR CODE HERE\". It gets added automatically.\n",
    "# No solution code is needed here.\n",
    "#\n",
    "# \n",
    "# YOUR CODE HERE\n",
    "# "
   ]
  },
  {
   "cell_type": "markdown",
   "metadata": {},
   "source": [
    "### (a) Linear regression using the Normal Equation"
   ]
  },
  {
   "cell_type": "markdown",
   "metadata": {},
   "source": [
    "**Task (see also Yata):** Create a python function `design_matrix` that returns the design matrix for a polynomial model. "
   ]
  },
  {
   "cell_type": "code",
   "execution_count": 51,
   "metadata": {
    "deletable": false,
    "nbgrader": {
     "cell_type": "code",
     "checksum": "e5da26b896bd3e8f2d28ab3e0a34de66",
     "grade": false,
     "grade_id": "design_matrix",
     "locked": false,
     "schema_version": 3,
     "solution": true,
     "task": false
    }
   },
   "outputs": [
    {
     "name": "stdout",
     "output_type": "stream",
     "text": [
      "[[1. 1. 1.]\n",
      " [0. 1. 2.]\n",
      " [0. 1. 4.]]\n"
     ]
    }
   ],
   "source": [
    "def design_matrix(X, degree=2):\n",
    "    \"\"\"\n",
    "    Returns a design matrix.\n",
    "    \n",
    "    Args:\n",
    "        X: Array of shape (Nd,1) with 'Nd' independent data.\n",
    "        degree: Integer with the degree of the polynomial. \n",
    "                  Note that a degree-n polynomial has n+1 coefficients.\n",
    "                  \n",
    "    Returns:\n",
    "        X_d: Design matrix of shape (Nd, degree+1).\n",
    "    \"\"\"\n",
    "    # \n",
    "    # YOUR CODE HERE\n",
    "    # \n",
    "    \n",
    "    Nd = np.shape(X)[0]\n",
    "    X_d = np.zeros((Nd, degree+1))\n",
    "    for i in range(degree+1):\n",
    "        X_d[i] = np.power(X, i)\n",
    "    return X_d\n",
    "X = ([0,1,2])\n",
    "print(design_matrix(X, 2))"
   ]
  },
  {
   "cell_type": "code",
   "execution_count": null,
   "metadata": {
    "deletable": false,
    "editable": false,
    "nbgrader": {
     "cell_type": "code",
     "checksum": "df0b83f3837a71a88749810d0a538cdf",
     "grade": true,
     "grade_id": "correct_design_matrix",
     "locked": true,
     "points": 1,
     "schema_version": 3,
     "solution": false,
     "task": false
    }
   },
   "outputs": [],
   "source": [
    "# TESTS TO CHECK YOUR CODE\n",
    "# ---\n",
    "assert design_matrix(X).shape == (len(X),3)\n",
    "assert design_matrix(X)[:,0].all() == 1\n",
    "assert design_matrix(X)[0,1] == X[0]\n",
    "assert design_matrix(X)[0,2] == X[0]**2\n",
    "\n",
    "ratio = design_matrix(X)[:,2]/design_matrix(X)[:,1]**2\n",
    "assert ratio.all() == 1"
   ]
  },
  {
   "cell_type": "markdown",
   "metadata": {},
   "source": [
    "**Task (see also Yata):** Complete the python method `solve_normal_equation` that solves the normal equation using matrix inversion. This function can be used to fit a quadratic model to the data generated for this problem.  "
   ]
  },
  {
   "cell_type": "code",
   "execution_count": null,
   "metadata": {
    "deletable": false,
    "nbgrader": {
     "cell_type": "code",
     "checksum": "0b96b166e404ef4481964e7a2fe36ccb",
     "grade": false,
     "grade_id": "solve_normal_equation",
     "locked": false,
     "schema_version": 3,
     "solution": true,
     "task": false
    }
   },
   "outputs": [],
   "source": [
    "def solve_normal_equation(X_d, y):\n",
    "    \"\"\"\n",
    "    Solve the normal equation.\n",
    "    \n",
    "    Args:\n",
    "        X_d: Design matrix of shape (Nd,Np) with 'Nd' independent data\n",
    "               and 'Np' features.\n",
    "        y: Dependent data of shape (Nd,1).\n",
    "                  \n",
    "    Returns:\n",
    "        theta_best: Best parameters, array of shape (Np,).\n",
    "    \"\"\"\n",
    "    # \n",
    "    # YOUR CODE HERE\n",
    "    # "
   ]
  },
  {
   "cell_type": "code",
   "execution_count": null,
   "metadata": {
    "deletable": false,
    "editable": false,
    "nbgrader": {
     "cell_type": "code",
     "checksum": "4924d5fea0dca84cebf69057fc6d8b9d",
     "grade": true,
     "grade_id": "correct_solve_normal_equation",
     "locked": true,
     "points": 1,
     "schema_version": 3,
     "solution": false,
     "task": false
    }
   },
   "outputs": [],
   "source": [
    "# TESTS TO CHECK YOUR CODE\n",
    "# ---\n",
    "assert (solve_normal_equation(design_matrix(X), y)).shape==(3,),\\\n",
    "    'Return object has wrong shape. Maybe the `flatten` method will be useful?'\n",
    "theta_star = np.array([0.20661169, 1.10887503, 0.69743377])\n",
    "theta_residuals = solve_normal_equation(design_matrix(X), y) - theta_star\n",
    "assert (abs(theta_residuals)<1e-7).all(), f'The solution to the normal equation is of low precision. theta_residulas = {abs(theta_residuals)}'"
   ]
  },
  {
   "cell_type": "markdown",
   "metadata": {},
   "source": [
    "### (b) Gradient descent\n",
    "Gradient descent optimization is not really needed for linear regression since we can solve the normal equation exactly. However, it is instructive to implement it yourself and to validate your implementation with a known solution."
   ]
  },
  {
   "cell_type": "markdown",
   "metadata": {},
   "source": [
    "**Task (see also Yata)** \n",
    "Define a function to compute the gradient for the mean-squared error (MSE) cost function (computed from the design matrix and the data; see further instructions in the code cell). Define then a function that performs gradient descent optimization. Note that you need the gradient for the MSE cost function."
   ]
  },
  {
   "cell_type": "code",
   "execution_count": null,
   "metadata": {
    "deletable": false,
    "nbgrader": {
     "cell_type": "code",
     "checksum": "b12aecfdf98655579385a61ba33452c6",
     "grade": false,
     "grade_id": "P3gradient",
     "locked": false,
     "schema_version": 3,
     "solution": true,
     "task": false
    }
   },
   "outputs": [],
   "source": [
    "def gradient_linear_regression(X_d, y, theta):\n",
    "    \"\"\"\n",
    "    Compute the gradient for the mean-squared error cost function at a specific parameter position.\n",
    "    \n",
    "    Args:\n",
    "        X_d: Design matrix of shape (Nd,Np) with 'Nd' independent data\n",
    "               and 'Np' features (ndarray).\n",
    "        y: Dependent data of size Nd (ndarray).\n",
    "        theta: List-like set of parameters (size Np)\n",
    "                  \n",
    "    Returns:\n",
    "        Gradient vector at position theta, array of shape (Np,1).\n",
    "    \"\"\"\n",
    "    (Nd,Np) = X_d.shape\n",
    "    assert len(y)==Nd, f'The size of y must be {Nd}. It is: {len(y)}.'\n",
    "    y = y.reshape(-1,1) # Turn into a (Nd,1) array.\n",
    "    assert len(theta)==Np, f'The parameter vector must be of size {Np}. It is: {len(theta)}.'\n",
    "    \n",
    "    # \n",
    "    # YOUR CODE HERE\n",
    "    # "
   ]
  },
  {
   "cell_type": "code",
   "execution_count": null,
   "metadata": {},
   "outputs": [],
   "source": [
    "# TESTS TO CHECK YOUR CODE\n",
    "# ---\n",
    "assert (gradient_linear_regression(design_matrix(X), y, [0,0,0])).shape==(3,1),\\\n",
    "    'Return object has wrong shape.'\n",
    "# Solution to normal equation\n",
    "theta_star = np.array([0.20661169, 1.10887503, 0.69743377])\n",
    "# Check gradient\n",
    "gradient_optimum = gradient_linear_regression(design_matrix(X), y, theta_star)\n",
    "assert (abs(gradient_optimum)<1e-7).all(), 'Gradient at optimum is not zero (elements > 10**-7)'\n"
   ]
  },
  {
   "cell_type": "code",
   "execution_count": null,
   "metadata": {
    "deletable": false,
    "nbgrader": {
     "cell_type": "code",
     "checksum": "1834db93fcc10a1db4c41f692b6d4586",
     "grade": false,
     "grade_id": "gradient_descent_function",
     "locked": false,
     "schema_version": 3,
     "solution": true,
     "task": false
    }
   },
   "outputs": [],
   "source": [
    "def gradient_descent_linear_regression(X_d, y, theta_start, eta=0.1, n_iterations=1000):\n",
    "    \"\"\"\n",
    "    Find optimized parameters in linear regression using (batch) gradient descent.\n",
    "    \n",
    "    Args:\n",
    "        X_d: Design matrix of shape (Nd,Np) with 'Nd' independent data\n",
    "               and 'Np' features (ndarray).\n",
    "        y: Dependent data of size Nd (ndarray).\n",
    "        theta_start: List-like initial guess for parameters (size Np) \n",
    "        eta: learning rate (default 0.1) (float)\n",
    "        n_iterations: Number of iterations (epochs) (default 1000) (integer)\n",
    "                  \n",
    "    Returns:\n",
    "        theta_optimum: Optimized parameters, array of shape (Np,).\n",
    "    \"\"\"\n",
    "    (Nd,Np) = X_d.shape\n",
    "    assert len(y)==Nd, f'The size of y must be {Nd}. It is: {len(y)}.'\n",
    "    y = y.reshape(-1,1) # Turn into a (Nd,1) array.\n",
    "    assert len(theta_start)==Np, f'The initial guess must be of size {Np}. It is: {len(theta_start)}.'\n",
    "    \n",
    "    # \n",
    "    # YOUR CODE HERE\n",
    "    # "
   ]
  },
  {
   "cell_type": "code",
   "execution_count": null,
   "metadata": {
    "deletable": false,
    "editable": false,
    "nbgrader": {
     "cell_type": "code",
     "checksum": "fdb9afd94d064e8c098a430e490abfcf",
     "grade": true,
     "grade_id": "correct_gradient_descent_function",
     "locked": true,
     "points": 1,
     "schema_version": 3,
     "solution": false,
     "task": false
    }
   },
   "outputs": [],
   "source": [
    "# TESTS TO CHECK YOUR CODE\n",
    "# ---\n",
    "X_d = design_matrix(X)\n",
    "assert (gradient_descent_linear_regression(X_d, y, [0,0,0], n_iterations=1)).shape==(3,),\\\n",
    "    'Return object has wrong shape. Maybe the `flatten` method will be useful?'\n",
    "theta_star = np.array([0.20661169, 1.10887503, 0.69743377])\n",
    "# Check gradient\n",
    "gradient_optimum = theta_star - gradient_descent_linear_regression(X_d, y, theta_star,eta=1.0, n_iterations=1)\n",
    "assert (abs(gradient_optimum)<1e-7).all(), 'Gradient at optimum is not zero (elements > 10**-7)'\n",
    "# Check final optimum (tolerance 10**-2)\n",
    "# Note that you might need to increase the number of iterations.\n",
    "theta_residuals = gradient_descent_linear_regression(X_d, y, [0,0,0],n_iterations=2000) - theta_star\n",
    "assert (abs(theta_residuals)<1e-2).all(), 'Residuals of GD optimum are too large (elements > 10**-2)'"
   ]
  },
  {
   "cell_type": "markdown",
   "metadata": {},
   "source": [
    "### (c) Comparison of solvers"
   ]
  },
  {
   "cell_type": "markdown",
   "metadata": {},
   "source": [
    "**Tasks (see also Yata)** \n",
    "Apply both your solver of the normal equation and your gradient descent optimizer to the same data and quadratic model that was introduced at the beginning of this problem.\n",
    "- Print and compare the coefficients from\n",
    "  - (i) the true polynomial in the data generator\n",
    "  - (ii) the exact solution of the normal equation\n",
    "  - (iii) the result of the gradient descent optimization. \n",
    "- Plot the data, the true polynomial and the model predictions (linear regression fit and GD optimum) in the same figure."
   ]
  },
  {
   "cell_type": "code",
   "execution_count": null,
   "metadata": {
    "deletable": false,
    "nbgrader": {
     "cell_type": "code",
     "checksum": "2f489894d9c4f93e060d93038c04769b",
     "grade": false,
     "grade_id": "cell-fbd1f3bdda876913",
     "locked": false,
     "schema_version": 3,
     "solution": true,
     "task": false
    }
   },
   "outputs": [],
   "source": [
    "# 1. Print and compare the coefficients from \n",
    "#   (i) the true polynomial in the data generator, \n",
    "#   (ii) the solution of the normal equation, \n",
    "#   (iii) the optimum from gradient descent.\n",
    "#\n",
    "# 2. Plot the data, the true polynomial and the model predictions (linear regression fit and GD optimum) in the same figure.\n",
    "\n",
    "# \n",
    "# YOUR CODE HERE\n",
    "# "
   ]
  },
  {
   "cell_type": "markdown",
   "metadata": {},
   "source": [
    "## Problem 4 (2 points)"
   ]
  },
  {
   "cell_type": "markdown",
   "metadata": {},
   "source": [
    "### (a) Applying Bayesian rules of probability to particle detection in a collider experiment"
   ]
  },
  {
   "cell_type": "markdown",
   "metadata": {
    "deletable": false,
    "editable": false,
    "nbgrader": {
     "cell_type": "markdown",
     "checksum": "ed8eb25d4d180fbe3ed7d04046a57e0b",
     "grade": false,
     "grade_id": "cell-a717eb4d32ba845e",
     "locked": true,
     "schema_version": 3,
     "solution": false,
     "task": false
    }
   },
   "source": [
    "Imagine you're running a particle physics experiment at CERN, trying to detect a rare particle predicted by a new theory — let’s call it the X-boson.\n",
    "\n",
    "The X-boson is expected to appear in 1 out of 10,000,000 collisions (very rare).\n",
    "\n",
    "Your detector has:\n",
    "\n",
    "- True positive rate: 95% — it correctly identifies an X-boson when one is present.\n",
    "- False positive rate: 0.1% — it incorrectly identifies an X-boson when none is present.\n",
    "\n",
    "Now, suppose your detector flags a collision as containing an X-boson. Your ultimate goal is to find the probability that the X-boson was actually produced?\n",
    "$% Some LaTeX definitions we'll use.\n",
    "\\newcommand{\\pr}{\\mathbb{P}}\n",
    "$"
   ]
  },
  {
   "cell_type": "markdown",
   "metadata": {
    "deletable": false,
    "editable": false,
    "nbgrader": {
     "cell_type": "markdown",
     "checksum": "222409285a77c1cafc97a29c9dd91824",
     "grade": false,
     "grade_id": "cell-51752b16483bb655",
     "locked": true,
     "schema_version": 3,
     "solution": false,
     "task": false
    }
   },
   "source": [
    "We'll do it using the Bayesian rules.\n",
    "\n",
    "We'll use the notation:\n",
    "\n",
    "* $X$ = \"X-boson was produced\"\n",
    "* $\\overline X$ = \"X-boson was not produced\"  \n",
    "* $D$ = \"detector flags the event as X-boson\"\n",
    "* $\\overline D$ = \"detector does not flag the event as X-boson\"  "
   ]
  },
  {
   "cell_type": "markdown",
   "metadata": {
    "deletable": false,
    "editable": false,
    "nbgrader": {
     "cell_type": "markdown",
     "checksum": "ea7f94aacdd17b79e549ffae79a728e9",
     "grade": false,
     "grade_id": "cell-61c95058fe103533",
     "locked": true,
     "schema_version": 3,
     "solution": false,
     "task": false
    }
   },
   "source": [
    "**Tasks (see also Yata)** \n",
    "\n",
    "Answer the following questions. Some of them are repeated on Yata.\n",
    "\n",
    "a. *Before doing a calculation (or thinking too hard :), does your intuition tell you the probability you have discovered the X-boson is high or low?*\n",
    "<br>\n",
    "\n",
    "b. *In the $\\pr(\\cdot | \\cdot)$ notation, what is your ultimate goal?*\n",
    "<br>\n",
    "\n",
    "c. *Express the false positive rate in $\\pr(\\cdot | \\cdot)$ notation.* \\[Ask yourself first: what is to the left of the bar?\\]\n",
    "<br>\n",
    "\n",
    "d. *Express the false negative rate in $\\pr(\\cdot | \\cdot)$ notation. By applying the sum rule, what do you also know? (If you get stuck answering the question, do the next part first.)* \n",
    "<br>\n",
    "\n",
    "e. *Should $\\pr(D|X) + p(D|\\overline X) = 1$?\n",
    "    Should $\\pr(D|X) + p(\\overline D |X) = 1$?\n",
    "    (Hint: does the sum rule apply on the left or right of the $|$?)*\n",
    "<br>\n",
    "\n",
    "f. *Apply Bayes' theorem to your result for your ultimate goal (don't put in numbers yet).\n",
    "   What other probabilities do we need?*\n",
    "<br>"
   ]
  },
  {
   "cell_type": "code",
   "execution_count": null,
   "metadata": {
    "deletable": false,
    "nbgrader": {
     "cell_type": "code",
     "checksum": "eeccf4e51901f05414de6f2de3386574",
     "grade": false,
     "grade_id": "bayes_medical",
     "locked": false,
     "schema_version": 3,
     "solution": true,
     "task": false
    }
   },
   "outputs": [],
   "source": [
    "# This cell is used only in the solution notebook.\n",
    "# \n",
    "# Please ignore the comment in this cell that says \"YOUR CODE HERE\". It gets added automatically.\n",
    "# No solution code is needed here.\n",
    "# ---\n",
    "# \n",
    "# YOUR CODE HERE\n",
    "# \n"
   ]
  },
  {
   "cell_type": "markdown",
   "metadata": {},
   "source": [
    "### (b) Applying Bayesian rules of probability to particle detection in a collider experiment (cont.)"
   ]
  },
  {
   "cell_type": "markdown",
   "metadata": {},
   "source": [
    "**Tasks (see also Yata)**"
   ]
  },
  {
   "cell_type": "code",
   "execution_count": null,
   "metadata": {
    "deletable": false,
    "nbgrader": {
     "cell_type": "code",
     "checksum": "30b2b719dd187bd17bb46be2ecb8332a",
     "grade": false,
     "grade_id": "medical_example",
     "locked": false,
     "schema_version": 3,
     "solution": true,
     "task": false
    }
   },
   "outputs": [],
   "source": [
    "# Please fill the probabilities as values for the \n",
    "# corresponding keys in the following dictionary.\n",
    "particle_example_probabilities = {}\n",
    "particle_example_probabilities['p(D|Xbar)'] = 0.0\n",
    "particle_example_probabilities['p(Dbar|X)'] = 0.0\n",
    "particle_example_probabilities['p(D|X)'] = 0.0\n",
    "particle_example_probabilities['p(X,Xbar|D)'] = 0.0\n",
    "particle_example_probabilities['p(Xbar)'] = 0.0\n",
    "particle_example_probabilities['p(D)'] = 0.0\n",
    "particle_example_probabilities['p(X|D)'] = 0.0\n",
    "\n",
    "# \n",
    "# YOUR CODE HERE\n",
    "# "
   ]
  },
  {
   "cell_type": "code",
   "execution_count": null,
   "metadata": {
    "deletable": false,
    "editable": false,
    "nbgrader": {
     "cell_type": "code",
     "checksum": "8bb308ea69d2a68a804aeff8f3963c1b",
     "grade": true,
     "grade_id": "correct_1_medical_example",
     "locked": true,
     "points": 1,
     "schema_version": 3,
     "solution": false,
     "task": false
    }
   },
   "outputs": [],
   "source": [
    "for key in ['p(D|Xbar)', 'p(Dbar|X)', 'p(D|X)']:\n",
    "    assert particle_example_probabilities[key] > 0.\n",
    "    assert particle_example_probabilities[key] < 1.\n",
    "    \n",
    "assert particle_example_probabilities['p(X,Xbar|D)'] <= 1.0"
   ]
  },
  {
   "cell_type": "code",
   "execution_count": null,
   "metadata": {
    "deletable": false,
    "editable": false,
    "nbgrader": {
     "cell_type": "code",
     "checksum": "09505ae9c33fa860be9c57ed79f68610",
     "grade": true,
     "grade_id": "correct_2_medical_example",
     "locked": true,
     "points": 1,
     "schema_version": 3,
     "solution": false,
     "task": false
    }
   },
   "outputs": [],
   "source": [
    "for key in ['p(Xbar)', 'p(D)', 'p(X|D)']:\n",
    "    assert particle_example_probabilities[key] > 0.\n",
    "    assert particle_example_probabilities[key] < 1."
   ]
  },
  {
   "cell_type": "code",
   "execution_count": null,
   "metadata": {},
   "outputs": [],
   "source": []
  }
 ],
 "metadata": {
  "kernelspec": {
   "display_name": "Python 3 (ipykernel)",
   "language": "python",
   "name": "python3"
  },
  "language_info": {
   "codemirror_mode": {
    "name": "ipython",
    "version": 3
   },
   "file_extension": ".py",
   "mimetype": "text/x-python",
   "name": "python",
   "nbconvert_exporter": "python",
   "pygments_lexer": "ipython3",
   "version": "3.13.7"
  },
  "nav_menu": {},
  "toc": {
   "navigate_menu": true,
   "number_sections": true,
   "sideBar": true,
   "threshold": 6,
   "toc_cell": false,
   "toc_section_display": "block",
   "toc_window_display": false
  }
 },
 "nbformat": 4,
 "nbformat_minor": 4
}
